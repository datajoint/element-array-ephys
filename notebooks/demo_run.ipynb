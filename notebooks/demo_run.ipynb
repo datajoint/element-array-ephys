{
 "cells": [
  {
   "attachments": {},
   "cell_type": "markdown",
   "metadata": {},
   "source": [
    "# DataJoint Workflow for Neuropixels Analysis\n",
    "\n",
    "+ This notebook demonstrates using the open-source DataJoint Element to build a workflow for extracellular electrophysiology.\n",
    "+ For a detailed tutorial, please see the [tutorial notebook](./tutorial.ipynb)."
   ]
  },
  {
   "attachments": {},
   "cell_type": "markdown",
   "metadata": {},
   "source": [
    "### Import dependencies"
   ]
  },
  {
   "cell_type": "code",
   "execution_count": null,
   "metadata": {},
   "outputs": [],
   "source": [
    "import datajoint as dj\n",
    "from workflow_array_ephys.pipeline import subject, session, probe, ephys\n",
    "from element_array_ephys.plotting.widget import main"
   ]
  },
  {
   "attachments": {},
   "cell_type": "markdown",
   "metadata": {},
   "source": [
    "### View workflow"
   ]
  },
  {
   "cell_type": "code",
   "execution_count": null,
   "metadata": {},
   "outputs": [],
   "source": [
    "dj.Diagram(subject.Subject) + dj.Diagram(session.Session) + dj.Diagram(probe) + dj.Diagram(ephys)"
   ]
  },
  {
   "attachments": {},
   "cell_type": "markdown",
   "metadata": {},
   "source": [
    "### Insert an entry in a manual table by calling the `insert()` method\n",
    "\n",
    "```python\n",
    "subject.Subject.insert1(\n",
    "    dict(subject='subject1',\n",
    "         subject_birth_date='2023-01-01',\n",
    "         sex='U',\n",
    "    )\n",
    ")\n",
    "```"
   ]
  },
  {
   "attachments": {},
   "cell_type": "markdown",
   "metadata": {},
   "source": [
    "### Automatically process data with the `populate()` method\n",
    "\n",
    "+ Once data is inserted into manual tables, the `populate()` function automatically runs the ingestion and processing routines. \n",
    "\n",
    "+ For example, to run Kilosort processing in the `Clustering` table:\n",
    "\n",
    "     ```python\n",
    "     ephys.Clustering.populate()\n",
    "     ```"
   ]
  },
  {
   "attachments": {},
   "cell_type": "markdown",
   "metadata": {},
   "source": [
    "### Visualize processed data"
   ]
  },
  {
   "cell_type": "code",
   "execution_count": null,
   "metadata": {},
   "outputs": [],
   "source": [
    "main(ephys)"
   ]
  },
  {
   "attachments": {},
   "cell_type": "markdown",
   "metadata": {},
   "source": [
    "For an in-depth tutorial please see the [tutorial notebook](./tutorial.ipynb)."
   ]
  }
 ],
 "metadata": {
  "kernelspec": {
   "display_name": "python3p10",
   "language": "python",
   "name": "python3"
  },
  "language_info": {
   "codemirror_mode": {
    "name": "ipython",
    "version": 3
   },
   "file_extension": ".py",
   "mimetype": "text/x-python",
   "name": "python",
   "nbconvert_exporter": "python",
   "pygments_lexer": "ipython3",
   "version": "3.9.16"
  },
  "orig_nbformat": 4,
  "vscode": {
   "interpreter": {
    "hash": "ff52d424e56dd643d8b2ec122f40a2e279e94970100b4e6430cb9025a65ba4cf"
   }
  }
 },
 "nbformat": 4,
 "nbformat_minor": 2
}
