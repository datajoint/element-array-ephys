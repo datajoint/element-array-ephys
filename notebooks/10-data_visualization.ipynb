{
 "cells": [
  {
   "attachments": {},
   "cell_type": "markdown",
   "id": "15bdef0d-bd52-49e6-87a0-d569006149a0",
   "metadata": {
    "tags": []
   },
   "source": [
    "# Data Visualization\n"
   ]
  },
  {
   "attachments": {},
   "cell_type": "markdown",
   "id": "14e32a02",
   "metadata": {},
   "source": [
    "This notebook is intended to demonstrate the use of visualization functions for ephys data and datajoint tables for storing the results.\n"
   ]
  },
  {
   "cell_type": "code",
   "execution_count": 1,
   "id": "39f49466",
   "metadata": {},
   "outputs": [],
   "source": [
    "import os\n",
    "\n",
    "if os.path.basename(os.getcwd()) == \"notebooks\":\n",
    "    os.chdir(\"..\")\n"
   ]
  },
  {
   "attachments": {},
   "cell_type": "markdown",
   "id": "14e32a02",
   "metadata": {},
   "source": [
    "Visualization results (e.g., figures) will be stored in tables created under the `ephys_report` schema. By default, the schema will be activated with the `ephys` schema.\n"
   ]
  },
  {
   "cell_type": "code",
   "execution_count": 2,
   "id": "79cef246",
   "metadata": {},
   "outputs": [
    {
     "name": "stderr",
     "output_type": "stream",
     "text": [
      "[2023-01-11 09:54:32,642][WARNING]: lab.Project and related tables will be removed in a future version of Element Lab. Please use the project schema.\n",
      "[2023-01-11 09:54:32,695][WARNING]: Element Lab's \"project\" schema does not yet feature NWB export.Please use lab.Project and lab.Protocol tables\n",
      "[2023-01-11 09:54:33,267][INFO]: Connecting cbroz@dss-db.datajoint.io:3306\n",
      "[2023-01-11 09:54:33,693][INFO]: Connected cbroz@dss-db.datajoint.io:3306\n"
     ]
    }
   ],
   "source": [
    "import datajoint as dj\n",
    "import datetime\n",
    "from workflow_array_ephys.pipeline import ephys, probe, ephys_report\n"
   ]
  },
  {
   "attachments": {},
   "cell_type": "markdown",
   "id": "dc0d2e67",
   "metadata": {},
   "source": [
    "First, we fetch one example unit data from the `ephys.CuratedClustering.Unit` table that will be used for this demonstration.\n"
   ]
  },
  {
   "cell_type": "code",
   "execution_count": 3,
   "id": "42f2a075",
   "metadata": {},
   "outputs": [
    {
     "data": {
      "text/html": [
       "\n",
       "    \n",
       "    <style type=\"text/css\">\n",
       "        .Relation{\n",
       "            border-collapse:collapse;\n",
       "        }\n",
       "        .Relation th{\n",
       "            background: #A0A0A0; color: #ffffff; padding:4px; border:#f0e0e0 1px solid;\n",
       "            font-weight: normal; font-family: monospace; font-size: 100%;\n",
       "        }\n",
       "        .Relation td{\n",
       "            padding:4px; border:#f0e0e0 1px solid; font-size:100%;\n",
       "        }\n",
       "        .Relation tr:nth-child(odd){\n",
       "            background: #ffffff;\n",
       "        }\n",
       "        .Relation tr:nth-child(even){\n",
       "            background: #f3f1ff;\n",
       "        }\n",
       "        /* Tooltip container */\n",
       "        .djtooltip {\n",
       "        }\n",
       "        /* Tooltip text */\n",
       "        .djtooltip .djtooltiptext {\n",
       "            visibility: hidden;\n",
       "            width: 120px;\n",
       "            background-color: black;\n",
       "            color: #fff;\n",
       "            text-align: center;\n",
       "            padding: 5px 0;\n",
       "            border-radius: 6px;\n",
       "            /* Position the tooltip text - see examples below! */\n",
       "            position: absolute;\n",
       "            z-index: 1;\n",
       "        }\n",
       "        #primary {\n",
       "            font-weight: bold;\n",
       "            color: black;\n",
       "        }\n",
       "        #nonprimary {\n",
       "            font-weight: normal;\n",
       "            color: white;\n",
       "        }\n",
       "\n",
       "        /* Show the tooltip text when you mouse over the tooltip container */\n",
       "        .djtooltip:hover .djtooltiptext {\n",
       "            visibility: visible;\n",
       "        }\n",
       "    </style>\n",
       "    \n",
       "    <b>Properties of a given unit from a round of clustering (and curation)</b>\n",
       "        <div style=\"max-height:1000px;max-width:1500px;overflow:auto;\">\n",
       "        <table border=\"1\" class=\"Relation\">\n",
       "            <thead> <tr style=\"text-align: right;\"> <th> <div class=\"djtooltip\">\n",
       "                            <p id=\"primary\">subject</p>\n",
       "                            <span class=\"djtooltiptext\"></span>\n",
       "                        </div></th><th><div class=\"djtooltip\">\n",
       "                            <p id=\"primary\">session_datetime</p>\n",
       "                            <span class=\"djtooltiptext\"></span>\n",
       "                        </div></th><th><div class=\"djtooltip\">\n",
       "                            <p id=\"primary\">insertion_number</p>\n",
       "                            <span class=\"djtooltiptext\"></span>\n",
       "                        </div></th><th><div class=\"djtooltip\">\n",
       "                            <p id=\"primary\">paramset_idx</p>\n",
       "                            <span class=\"djtooltiptext\"></span>\n",
       "                        </div></th><th><div class=\"djtooltip\">\n",
       "                            <p id=\"primary\">unit</p>\n",
       "                            <span class=\"djtooltiptext\"></span>\n",
       "                        </div></th><th><div class=\"djtooltip\">\n",
       "                            <p id=\"nonprimary\">electrode_config_hash</p>\n",
       "                            <span class=\"djtooltiptext\"></span>\n",
       "                        </div></th><th><div class=\"djtooltip\">\n",
       "                            <p id=\"nonprimary\">probe_type</p>\n",
       "                            <span class=\"djtooltiptext\">e.g. neuropixels_1.0</span>\n",
       "                        </div></th><th><div class=\"djtooltip\">\n",
       "                            <p id=\"nonprimary\">electrode</p>\n",
       "                            <span class=\"djtooltiptext\">electrode index, starts at 0</span>\n",
       "                        </div></th><th><div class=\"djtooltip\">\n",
       "                            <p id=\"nonprimary\">cluster_quality_label</p>\n",
       "                            <span class=\"djtooltiptext\">cluster quality type - e.g. 'good', 'MUA', 'noise', etc.</span>\n",
       "                        </div></th><th><div class=\"djtooltip\">\n",
       "                            <p id=\"nonprimary\">spike_count</p>\n",
       "                            <span class=\"djtooltiptext\">how many spikes in this recording for this unit</span>\n",
       "                        </div></th><th><div class=\"djtooltip\">\n",
       "                            <p id=\"nonprimary\">spike_times</p>\n",
       "                            <span class=\"djtooltiptext\">(s) spike times of this unit, relative to the start of the EphysRecording</span>\n",
       "                        </div></th><th><div class=\"djtooltip\">\n",
       "                            <p id=\"nonprimary\">spike_sites</p>\n",
       "                            <span class=\"djtooltiptext\">array of electrode associated with each spike</span>\n",
       "                        </div></th><th><div class=\"djtooltip\">\n",
       "                            <p id=\"nonprimary\">spike_depths</p>\n",
       "                            <span class=\"djtooltiptext\">(um) array of depths associated with each spike, relative to the (0, 0) of the probe</span>\n",
       "                        </div> </th> </tr> </thead>\n",
       "            <tbody> <tr> <td>subject6</td>\n",
       "<td>2021-01-15 11:16:38</td>\n",
       "<td>0</td>\n",
       "<td>0</td>\n",
       "<td>13</td>\n",
       "<td>6f6d8149-1603-9d2c-f884-0fdf995ec8b3</td>\n",
       "<td>neuropixels 1.0 - 3B</td>\n",
       "<td>13</td>\n",
       "<td>mua</td>\n",
       "<td>13607</td>\n",
       "<td>=BLOB=</td>\n",
       "<td>=BLOB=</td>\n",
       "<td>=BLOB=</td> </tr> </tbody>\n",
       "        </table>\n",
       "        \n",
       "        <p>Total: 1</p></div>\n",
       "        "
      ],
      "text/plain": [
       "*subject     *session_datet *insertion_num *paramset_idx  *unit    electrode_conf probe_type     electrode     cluster_qualit spike_count    spike_time spike_site spike_dept\n",
       "+----------+ +------------+ +------------+ +------------+ +------+ +------------+ +------------+ +-----------+ +------------+ +------------+ +--------+ +--------+ +--------+\n",
       "subject6     2021-01-15 11: 0              0              13       6f6d8149-1603- neuropixels 1. 13            mua            13607          =BLOB=     =BLOB=     =BLOB=    \n",
       " (Total: 1)"
      ]
     },
     "execution_count": 3,
     "metadata": {},
     "output_type": "execute_result"
    }
   ],
   "source": [
    "# Get the unit key\n",
    "unit_number = 13\n",
    "\n",
    "unit_key = {\n",
    "    \"subject\": \"subject6\",\n",
    "    \"session_datetime\": datetime.datetime(2021, 1, 15, 11, 16, 38),\n",
    "    \"insertion_number\": 0,\n",
    "    \"paramset_idx\": 0,\n",
    "    \"unit\": unit_number,\n",
    "}\n",
    "\n",
    "ephys.CuratedClustering.Unit & unit_key\n"
   ]
  },
  {
   "attachments": {},
   "cell_type": "markdown",
   "id": "8855d8bb",
   "metadata": {},
   "source": [
    "Figures can be generated either at the probe level or a single unit level. Here we start start with the unit-level visualization and import functions from `element_array_ephys.plotting.unit_level`\n"
   ]
  },
  {
   "attachments": {},
   "cell_type": "markdown",
   "id": "83bdae23",
   "metadata": {},
   "source": [
    "## Unit level visualization\n"
   ]
  },
  {
   "attachments": {},
   "cell_type": "markdown",
   "id": "8855d8bb",
   "metadata": {},
   "source": [
    "- There are functions to plot the 1) **unit waveform**, 2) **autocorrelogram**, and 3) **depth waveforms** which plot the peak waveform as well as waveforms detected from neighboring sites from a given probe.\n",
    "\n",
    "- Each figure was plotted with the _plotly_ library to allow interactive exploration of the data.\n"
   ]
  },
  {
   "cell_type": "markdown",
   "id": "07800e38",
   "metadata": {},
   "source": [
    "### Plot waveform\n"
   ]
  },
  {
   "cell_type": "code",
   "execution_count": 4,
   "id": "07403cc6",
   "metadata": {},
   "outputs": [
    {
     "data": {
      "application/vnd.plotly.v1+json": {
       "config": {
        "plotlyServerURL": "https://plot.ly"
       },
       "data": [
        {
         "hovertemplate": "%{y:.2f} μV<br>%{x:.2f} ms<extra></extra>",
         "line": {
          "color": "rgb(51, 76.5, 204)",
          "width": 2
         },
         "mode": "lines",
         "type": "scatter",
         "x": [
          0,
          0.033332666679999734,
          0.06666533335999947,
          0.0999980000399992,
          0.13333066671999894,
          0.16666333339999867,
          0.1999960000799984,
          0.23332866675999814,
          0.26666133343999787,
          0.2999940001199976,
          0.33332666679999734,
          0.3666593334799971,
          0.3999920001599968,
          0.43332466683999654,
          0.4666573335199963,
          0.499990000199996,
          0.5333226668799957,
          0.5666553335599955,
          0.5999880002399952,
          0.633320666919995,
          0.6666533335999947,
          0.6999860002799945,
          0.7333186669599941,
          0.7666513336399939,
          0.7999840003199936,
          0.8333166669999934,
          0.8666493336799931,
          0.8999820003599929,
          0.9333146670399926,
          0.9666473337199923,
          0.999980000399992,
          1.0333126670799917,
          1.0666453337599915,
          1.0999780004399913,
          1.133310667119991,
          1.1666433337999906,
          1.1999760004799904,
          1.2333086671599902,
          1.26664133383999,
          1.2999740005199896,
          1.3333066671999894,
          1.3666393338799891,
          1.399972000559989,
          1.4333046672399885,
          1.4666373339199883,
          1.499970000599988,
          1.5333026672799879,
          1.5666353339599874,
          1.5999680006399872,
          1.633300667319987,
          1.6666333339999868,
          1.6999660006799864,
          1.7332986673599862,
          1.766631334039986,
          1.7999640007199857,
          1.8332966673999853,
          1.866629334079985,
          1.899962000759985,
          1.9332946674399847,
          1.9666273341199842,
          1.999960000799984,
          2.0332926674799836,
          2.0666253341599834,
          2.099958000839983
         ],
         "y": [
          -1.3734375,
          -2.0578125,
          -2.259375,
          -1.95,
          -2.015625,
          -2.596875,
          -2.11875,
          -1.875,
          -2.04375,
          -1.9875,
          -2.4890625,
          -1.584375,
          -0.853125,
          -0.91875,
          -0.7875,
          -0.76875,
          -1.2046875,
          -1.1859375,
          -1.715625,
          -1.2,
          -1.0265625,
          -0.159375,
          -0.3140625,
          0.2671875,
          0.3890625,
          0.3890625,
          -0.5390625,
          -0.6046875,
          -0.20625,
          -0.05625,
          0.1875,
          0.046875,
          -0.05625,
          -0.58125,
          -0.61875,
          -1.2421875,
          -0.88125,
          -0.459375,
          -0.5484375,
          -0.609375,
          -1.0921875,
          -0.8671875,
          -0.69375,
          -0.5484375,
          -0.4875,
          -1.059375,
          -1.5328125,
          -1.4203125,
          -2.41875,
          -2.11875,
          -1.74375,
          -1.7625,
          -1.453125,
          -1.565625,
          -1.2140625,
          -1.1296875,
          -1.7953125,
          -1.7625,
          -1.06875,
          -1.134375,
          -0.740625,
          -0.665625,
          -0.778125,
          -0.478125
         ]
        }
       ],
       "layout": {
        "height": 350,
        "template": {
         "data": {
          "bar": [
           {
            "error_x": {
             "color": "rgb(36,36,36)"
            },
            "error_y": {
             "color": "rgb(36,36,36)"
            },
            "marker": {
             "line": {
              "color": "white",
              "width": 0.5
             },
             "pattern": {
              "fillmode": "overlay",
              "size": 10,
              "solidity": 0.2
             }
            },
            "type": "bar"
           }
          ],
          "barpolar": [
           {
            "marker": {
             "line": {
              "color": "white",
              "width": 0.5
             },
             "pattern": {
              "fillmode": "overlay",
              "size": 10,
              "solidity": 0.2
             }
            },
            "type": "barpolar"
           }
          ],
          "carpet": [
           {
            "aaxis": {
             "endlinecolor": "rgb(36,36,36)",
             "gridcolor": "white",
             "linecolor": "white",
             "minorgridcolor": "white",
             "startlinecolor": "rgb(36,36,36)"
            },
            "baxis": {
             "endlinecolor": "rgb(36,36,36)",
             "gridcolor": "white",
             "linecolor": "white",
             "minorgridcolor": "white",
             "startlinecolor": "rgb(36,36,36)"
            },
            "type": "carpet"
           }
          ],
          "choropleth": [
           {
            "colorbar": {
             "outlinewidth": 1,
             "tickcolor": "rgb(36,36,36)",
             "ticks": "outside"
            },
            "type": "choropleth"
           }
          ],
          "contour": [
           {
            "colorbar": {
             "outlinewidth": 1,
             "tickcolor": "rgb(36,36,36)",
             "ticks": "outside"
            },
            "colorscale": [
             [
              0,
              "#440154"
             ],
             [
              0.1111111111111111,
              "#482878"
             ],
             [
              0.2222222222222222,
              "#3e4989"
             ],
             [
              0.3333333333333333,
              "#31688e"
             ],
             [
              0.4444444444444444,
              "#26828e"
             ],
             [
              0.5555555555555556,
              "#1f9e89"
             ],
             [
              0.6666666666666666,
              "#35b779"
             ],
             [
              0.7777777777777778,
              "#6ece58"
             ],
             [
              0.8888888888888888,
              "#b5de2b"
             ],
             [
              1,
              "#fde725"
             ]
            ],
            "type": "contour"
           }
          ],
          "contourcarpet": [
           {
            "colorbar": {
             "outlinewidth": 1,
             "tickcolor": "rgb(36,36,36)",
             "ticks": "outside"
            },
            "type": "contourcarpet"
           }
          ],
          "heatmap": [
           {
            "colorbar": {
             "outlinewidth": 1,
             "tickcolor": "rgb(36,36,36)",
             "ticks": "outside"
            },
            "colorscale": [
             [
              0,
              "#440154"
             ],
             [
              0.1111111111111111,
              "#482878"
             ],
             [
              0.2222222222222222,
              "#3e4989"
             ],
             [
              0.3333333333333333,
              "#31688e"
             ],
             [
              0.4444444444444444,
              "#26828e"
             ],
             [
              0.5555555555555556,
              "#1f9e89"
             ],
             [
              0.6666666666666666,
              "#35b779"
             ],
             [
              0.7777777777777778,
              "#6ece58"
             ],
             [
              0.8888888888888888,
              "#b5de2b"
             ],
             [
              1,
              "#fde725"
             ]
            ],
            "type": "heatmap"
           }
          ],
          "heatmapgl": [
           {
            "colorbar": {
             "outlinewidth": 1,
             "tickcolor": "rgb(36,36,36)",
             "ticks": "outside"
            },
            "colorscale": [
             [
              0,
              "#440154"
             ],
             [
              0.1111111111111111,
              "#482878"
             ],
             [
              0.2222222222222222,
              "#3e4989"
             ],
             [
              0.3333333333333333,
              "#31688e"
             ],
             [
              0.4444444444444444,
              "#26828e"
             ],
             [
              0.5555555555555556,
              "#1f9e89"
             ],
             [
              0.6666666666666666,
              "#35b779"
             ],
             [
              0.7777777777777778,
              "#6ece58"
             ],
             [
              0.8888888888888888,
              "#b5de2b"
             ],
             [
              1,
              "#fde725"
             ]
            ],
            "type": "heatmapgl"
           }
          ],
          "histogram": [
           {
            "marker": {
             "line": {
              "color": "white",
              "width": 0.6
             }
            },
            "type": "histogram"
           }
          ],
          "histogram2d": [
           {
            "colorbar": {
             "outlinewidth": 1,
             "tickcolor": "rgb(36,36,36)",
             "ticks": "outside"
            },
            "colorscale": [
             [
              0,
              "#440154"
             ],
             [
              0.1111111111111111,
              "#482878"
             ],
             [
              0.2222222222222222,
              "#3e4989"
             ],
             [
              0.3333333333333333,
              "#31688e"
             ],
             [
              0.4444444444444444,
              "#26828e"
             ],
             [
              0.5555555555555556,
              "#1f9e89"
             ],
             [
              0.6666666666666666,
              "#35b779"
             ],
             [
              0.7777777777777778,
              "#6ece58"
             ],
             [
              0.8888888888888888,
              "#b5de2b"
             ],
             [
              1,
              "#fde725"
             ]
            ],
            "type": "histogram2d"
           }
          ],
          "histogram2dcontour": [
           {
            "colorbar": {
             "outlinewidth": 1,
             "tickcolor": "rgb(36,36,36)",
             "ticks": "outside"
            },
            "colorscale": [
             [
              0,
              "#440154"
             ],
             [
              0.1111111111111111,
              "#482878"
             ],
             [
              0.2222222222222222,
              "#3e4989"
             ],
             [
              0.3333333333333333,
              "#31688e"
             ],
             [
              0.4444444444444444,
              "#26828e"
             ],
             [
              0.5555555555555556,
              "#1f9e89"
             ],
             [
              0.6666666666666666,
              "#35b779"
             ],
             [
              0.7777777777777778,
              "#6ece58"
             ],
             [
              0.8888888888888888,
              "#b5de2b"
             ],
             [
              1,
              "#fde725"
             ]
            ],
            "type": "histogram2dcontour"
           }
          ],
          "mesh3d": [
           {
            "colorbar": {
             "outlinewidth": 1,
             "tickcolor": "rgb(36,36,36)",
             "ticks": "outside"
            },
            "type": "mesh3d"
           }
          ],
          "parcoords": [
           {
            "line": {
             "colorbar": {
              "outlinewidth": 1,
              "tickcolor": "rgb(36,36,36)",
              "ticks": "outside"
             }
            },
            "type": "parcoords"
           }
          ],
          "pie": [
           {
            "automargin": true,
            "type": "pie"
           }
          ],
          "scatter": [
           {
            "fillpattern": {
             "fillmode": "overlay",
             "size": 10,
             "solidity": 0.2
            },
            "type": "scatter"
           }
          ],
          "scatter3d": [
           {
            "line": {
             "colorbar": {
              "outlinewidth": 1,
              "tickcolor": "rgb(36,36,36)",
              "ticks": "outside"
             }
            },
            "marker": {
             "colorbar": {
              "outlinewidth": 1,
              "tickcolor": "rgb(36,36,36)",
              "ticks": "outside"
             }
            },
            "type": "scatter3d"
           }
          ],
          "scattercarpet": [
           {
            "marker": {
             "colorbar": {
              "outlinewidth": 1,
              "tickcolor": "rgb(36,36,36)",
              "ticks": "outside"
             }
            },
            "type": "scattercarpet"
           }
          ],
          "scattergeo": [
           {
            "marker": {
             "colorbar": {
              "outlinewidth": 1,
              "tickcolor": "rgb(36,36,36)",
              "ticks": "outside"
             }
            },
            "type": "scattergeo"
           }
          ],
          "scattergl": [
           {
            "marker": {
             "colorbar": {
              "outlinewidth": 1,
              "tickcolor": "rgb(36,36,36)",
              "ticks": "outside"
             }
            },
            "type": "scattergl"
           }
          ],
          "scattermapbox": [
           {
            "marker": {
             "colorbar": {
              "outlinewidth": 1,
              "tickcolor": "rgb(36,36,36)",
              "ticks": "outside"
             }
            },
            "type": "scattermapbox"
           }
          ],
          "scatterpolar": [
           {
            "marker": {
             "colorbar": {
              "outlinewidth": 1,
              "tickcolor": "rgb(36,36,36)",
              "ticks": "outside"
             }
            },
            "type": "scatterpolar"
           }
          ],
          "scatterpolargl": [
           {
            "marker": {
             "colorbar": {
              "outlinewidth": 1,
              "tickcolor": "rgb(36,36,36)",
              "ticks": "outside"
             }
            },
            "type": "scatterpolargl"
           }
          ],
          "scatterternary": [
           {
            "marker": {
             "colorbar": {
              "outlinewidth": 1,
              "tickcolor": "rgb(36,36,36)",
              "ticks": "outside"
             }
            },
            "type": "scatterternary"
           }
          ],
          "surface": [
           {
            "colorbar": {
             "outlinewidth": 1,
             "tickcolor": "rgb(36,36,36)",
             "ticks": "outside"
            },
            "colorscale": [
             [
              0,
              "#440154"
             ],
             [
              0.1111111111111111,
              "#482878"
             ],
             [
              0.2222222222222222,
              "#3e4989"
             ],
             [
              0.3333333333333333,
              "#31688e"
             ],
             [
              0.4444444444444444,
              "#26828e"
             ],
             [
              0.5555555555555556,
              "#1f9e89"
             ],
             [
              0.6666666666666666,
              "#35b779"
             ],
             [
              0.7777777777777778,
              "#6ece58"
             ],
             [
              0.8888888888888888,
              "#b5de2b"
             ],
             [
              1,
              "#fde725"
             ]
            ],
            "type": "surface"
           }
          ],
          "table": [
           {
            "cells": {
             "fill": {
              "color": "rgb(237,237,237)"
             },
             "line": {
              "color": "white"
             }
            },
            "header": {
             "fill": {
              "color": "rgb(217,217,217)"
             },
             "line": {
              "color": "white"
             }
            },
            "type": "table"
           }
          ]
         },
         "layout": {
          "annotationdefaults": {
           "arrowhead": 0,
           "arrowwidth": 1
          },
          "autotypenumbers": "strict",
          "coloraxis": {
           "colorbar": {
            "outlinewidth": 1,
            "tickcolor": "rgb(36,36,36)",
            "ticks": "outside"
           }
          },
          "colorscale": {
           "diverging": [
            [
             0,
             "rgb(103,0,31)"
            ],
            [
             0.1,
             "rgb(178,24,43)"
            ],
            [
             0.2,
             "rgb(214,96,77)"
            ],
            [
             0.3,
             "rgb(244,165,130)"
            ],
            [
             0.4,
             "rgb(253,219,199)"
            ],
            [
             0.5,
             "rgb(247,247,247)"
            ],
            [
             0.6,
             "rgb(209,229,240)"
            ],
            [
             0.7,
             "rgb(146,197,222)"
            ],
            [
             0.8,
             "rgb(67,147,195)"
            ],
            [
             0.9,
             "rgb(33,102,172)"
            ],
            [
             1,
             "rgb(5,48,97)"
            ]
           ],
           "sequential": [
            [
             0,
             "#440154"
            ],
            [
             0.1111111111111111,
             "#482878"
            ],
            [
             0.2222222222222222,
             "#3e4989"
            ],
            [
             0.3333333333333333,
             "#31688e"
            ],
            [
             0.4444444444444444,
             "#26828e"
            ],
            [
             0.5555555555555556,
             "#1f9e89"
            ],
            [
             0.6666666666666666,
             "#35b779"
            ],
            [
             0.7777777777777778,
             "#6ece58"
            ],
            [
             0.8888888888888888,
             "#b5de2b"
            ],
            [
             1,
             "#fde725"
            ]
           ],
           "sequentialminus": [
            [
             0,
             "#440154"
            ],
            [
             0.1111111111111111,
             "#482878"
            ],
            [
             0.2222222222222222,
             "#3e4989"
            ],
            [
             0.3333333333333333,
             "#31688e"
            ],
            [
             0.4444444444444444,
             "#26828e"
            ],
            [
             0.5555555555555556,
             "#1f9e89"
            ],
            [
             0.6666666666666666,
             "#35b779"
            ],
            [
             0.7777777777777778,
             "#6ece58"
            ],
            [
             0.8888888888888888,
             "#b5de2b"
            ],
            [
             1,
             "#fde725"
            ]
           ]
          },
          "colorway": [
           "#1F77B4",
           "#FF7F0E",
           "#2CA02C",
           "#D62728",
           "#9467BD",
           "#8C564B",
           "#E377C2",
           "#7F7F7F",
           "#BCBD22",
           "#17BECF"
          ],
          "font": {
           "color": "rgb(36,36,36)"
          },
          "geo": {
           "bgcolor": "white",
           "lakecolor": "white",
           "landcolor": "white",
           "showlakes": true,
           "showland": true,
           "subunitcolor": "white"
          },
          "hoverlabel": {
           "align": "left"
          },
          "hovermode": "closest",
          "mapbox": {
           "style": "light"
          },
          "paper_bgcolor": "white",
          "plot_bgcolor": "white",
          "polar": {
           "angularaxis": {
            "gridcolor": "rgb(232,232,232)",
            "linecolor": "rgb(36,36,36)",
            "showgrid": false,
            "showline": true,
            "ticks": "outside"
           },
           "bgcolor": "white",
           "radialaxis": {
            "gridcolor": "rgb(232,232,232)",
            "linecolor": "rgb(36,36,36)",
            "showgrid": false,
            "showline": true,
            "ticks": "outside"
           }
          },
          "scene": {
           "xaxis": {
            "backgroundcolor": "white",
            "gridcolor": "rgb(232,232,232)",
            "gridwidth": 2,
            "linecolor": "rgb(36,36,36)",
            "showbackground": true,
            "showgrid": false,
            "showline": true,
            "ticks": "outside",
            "zeroline": false,
            "zerolinecolor": "rgb(36,36,36)"
           },
           "yaxis": {
            "backgroundcolor": "white",
            "gridcolor": "rgb(232,232,232)",
            "gridwidth": 2,
            "linecolor": "rgb(36,36,36)",
            "showbackground": true,
            "showgrid": false,
            "showline": true,
            "ticks": "outside",
            "zeroline": false,
            "zerolinecolor": "rgb(36,36,36)"
           },
           "zaxis": {
            "backgroundcolor": "white",
            "gridcolor": "rgb(232,232,232)",
            "gridwidth": 2,
            "linecolor": "rgb(36,36,36)",
            "showbackground": true,
            "showgrid": false,
            "showline": true,
            "ticks": "outside",
            "zeroline": false,
            "zerolinecolor": "rgb(36,36,36)"
           }
          },
          "shapedefaults": {
           "fillcolor": "black",
           "line": {
            "width": 0
           },
           "opacity": 0.3
          },
          "ternary": {
           "aaxis": {
            "gridcolor": "rgb(232,232,232)",
            "linecolor": "rgb(36,36,36)",
            "showgrid": false,
            "showline": true,
            "ticks": "outside"
           },
           "baxis": {
            "gridcolor": "rgb(232,232,232)",
            "linecolor": "rgb(36,36,36)",
            "showgrid": false,
            "showline": true,
            "ticks": "outside"
           },
           "bgcolor": "white",
           "caxis": {
            "gridcolor": "rgb(232,232,232)",
            "linecolor": "rgb(36,36,36)",
            "showgrid": false,
            "showline": true,
            "ticks": "outside"
           }
          },
          "title": {
           "x": 0.05
          },
          "xaxis": {
           "automargin": true,
           "gridcolor": "rgb(232,232,232)",
           "linecolor": "rgb(36,36,36)",
           "showgrid": false,
           "showline": true,
           "ticks": "outside",
           "title": {
            "standoff": 15
           },
           "zeroline": false,
           "zerolinecolor": "rgb(36,36,36)"
          },
          "yaxis": {
           "automargin": true,
           "gridcolor": "rgb(232,232,232)",
           "linecolor": "rgb(36,36,36)",
           "showgrid": false,
           "showline": true,
           "ticks": "outside",
           "title": {
            "standoff": 15
           },
           "zeroline": false,
           "zerolinecolor": "rgb(36,36,36)"
          }
         }
        },
        "title": {
         "text": "Avg. waveform"
        },
        "width": 350,
        "xaxis": {
         "title": {
          "text": "Time (ms)"
         }
        },
        "yaxis": {
         "title": {
          "text": "Voltage (μV)"
         }
        }
       }
      }
     },
     "metadata": {},
     "output_type": "display_data"
    }
   ],
   "source": [
    "from element_array_ephys.plotting.unit_level import (\n",
    "    plot_waveform,\n",
    "    plot_auto_correlogram,\n",
    "    plot_depth_waveforms,\n",
    ")\n",
    "\n",
    "# Fetch unit data\n",
    "sampling_rate = (ephys.EphysRecording & unit_key).fetch1(\n",
    "    \"sampling_rate\"\n",
    ") / 1e3  # in kHz\n",
    "\n",
    "unit_data = (\n",
    "    (ephys.CuratedClustering.Unit & unit_key) * ephys.WaveformSet.PeakWaveform\n",
    ").fetch1()\n",
    "\n",
    "waveform = unit_data[\"peak_electrode_waveform\"]\n",
    "spike_times = unit_data[\"spike_times\"]\n",
    "\n",
    "# Fetch unit data\n",
    "plot_waveform(waveform, sampling_rate)\n"
   ]
  },
  {
   "cell_type": "markdown",
   "id": "9eece189",
   "metadata": {},
   "source": [
    "### Plot autocorrelogram\n"
   ]
  },
  {
   "cell_type": "code",
   "execution_count": 13,
   "id": "07cd8ef5",
   "metadata": {},
   "outputs": [
    {
     "data": {
      "application/vnd.plotly.v1+json": {
       "config": {
        "plotlyServerURL": "https://plot.ly"
       },
       "data": [
        {
         "hovertemplate": "%{y}<br>%{x:.2f} ms<extra></extra>",
         "line": {
          "color": "black",
          "width": 1
         },
         "mode": "lines",
         "type": "scatter",
         "x": [
          -500,
          -499,
          -498,
          -497,
          -496,
          -495,
          -494,
          -493,
          -492,
          -491,
          -490,
          -489,
          -488,
          -487,
          -486,
          -485,
          -484,
          -483,
          -482,
          -481,
          -480,
          -479,
          -478,
          -477,
          -476,
          -475,
          -474,
          -473,
          -472,
          -471,
          -470,
          -469,
          -468,
          -467,
          -466,
          -465,
          -464,
          -463,
          -462,
          -461,
          -460,
          -459,
          -458,
          -457,
          -456,
          -455,
          -454,
          -453,
          -452,
          -451,
          -450,
          -449,
          -448,
          -447,
          -446,
          -445,
          -444,
          -443,
          -442,
          -441,
          -440,
          -439,
          -438,
          -437,
          -436,
          -435,
          -434,
          -433,
          -432,
          -431,
          -430,
          -429,
          -428,
          -427,
          -426,
          -425,
          -424,
          -423,
          -422,
          -421,
          -420,
          -419,
          -418,
          -417,
          -416,
          -415,
          -414,
          -413,
          -412,
          -411,
          -410,
          -409,
          -408,
          -407,
          -406,
          -405,
          -404,
          -403,
          -402,
          -401,
          -400,
          -399,
          -398,
          -397,
          -396,
          -395,
          -394,
          -393,
          -392,
          -391,
          -390,
          -389,
          -388,
          -387,
          -386,
          -385,
          -384,
          -383,
          -382,
          -381,
          -380,
          -379,
          -378,
          -377,
          -376,
          -375,
          -374,
          -373,
          -372,
          -371,
          -370,
          -369,
          -368,
          -367,
          -366,
          -365,
          -364,
          -363,
          -362,
          -361,
          -360,
          -359,
          -358,
          -357,
          -356,
          -355,
          -354,
          -353,
          -352,
          -351,
          -350,
          -349,
          -348,
          -347,
          -346,
          -345,
          -344,
          -343,
          -342,
          -341,
          -340,
          -339,
          -338,
          -337,
          -336,
          -335,
          -334,
          -333,
          -332,
          -331,
          -330,
          -329,
          -328,
          -327,
          -326,
          -325,
          -324,
          -323,
          -322,
          -321,
          -320,
          -319,
          -318,
          -317,
          -316,
          -315,
          -314,
          -313,
          -312,
          -311,
          -310,
          -309,
          -308,
          -307,
          -306,
          -305,
          -304,
          -303,
          -302,
          -301,
          -300,
          -299,
          -298,
          -297,
          -296,
          -295,
          -294,
          -293,
          -292,
          -291,
          -290,
          -289,
          -288,
          -287,
          -286,
          -285,
          -284,
          -283,
          -282,
          -281,
          -280,
          -279,
          -278,
          -277,
          -276,
          -275,
          -274,
          -273,
          -272,
          -271,
          -270,
          -269,
          -268,
          -267,
          -266,
          -265,
          -264,
          -263,
          -262,
          -261,
          -260,
          -259,
          -258,
          -257,
          -256,
          -255,
          -254,
          -253,
          -252,
          -251,
          -250,
          -249,
          -248,
          -247,
          -246,
          -245,
          -244,
          -243,
          -242,
          -241,
          -240,
          -239,
          -238,
          -237,
          -236,
          -235,
          -234,
          -233,
          -232,
          -231,
          -230,
          -229,
          -228,
          -227,
          -226,
          -225,
          -224,
          -223,
          -222,
          -221,
          -220,
          -219,
          -218,
          -217,
          -216,
          -215,
          -214,
          -213,
          -212,
          -211,
          -210,
          -209,
          -208,
          -207,
          -206,
          -205,
          -204,
          -203,
          -202,
          -201,
          -200,
          -199,
          -198,
          -197,
          -196,
          -195,
          -194,
          -193,
          -192,
          -191,
          -190,
          -189,
          -188,
          -187,
          -186,
          -185,
          -184,
          -183,
          -182,
          -181,
          -180,
          -179,
          -178,
          -177,
          -176,
          -175,
          -174,
          -173,
          -172,
          -171,
          -170,
          -169,
          -168,
          -167,
          -166,
          -165,
          -164,
          -163,
          -162,
          -161,
          -160,
          -159,
          -158,
          -157,
          -156,
          -155,
          -154,
          -153,
          -152,
          -151,
          -150,
          -149,
          -148,
          -147,
          -146,
          -145,
          -144,
          -143,
          -142,
          -141,
          -140,
          -139,
          -138,
          -137,
          -136,
          -135,
          -134,
          -133,
          -132,
          -131,
          -130,
          -129,
          -128,
          -127,
          -126,
          -125,
          -124,
          -123,
          -122,
          -121,
          -120,
          -119,
          -118,
          -117,
          -116,
          -115,
          -114,
          -113,
          -112,
          -111,
          -110,
          -109,
          -108,
          -107,
          -106,
          -105,
          -104,
          -103,
          -102,
          -101,
          -100,
          -99,
          -98,
          -97,
          -96,
          -95,
          -94,
          -93,
          -92,
          -91,
          -90,
          -89,
          -88,
          -87,
          -86,
          -85,
          -84,
          -83,
          -82,
          -81,
          -80,
          -79,
          -78,
          -77,
          -76,
          -75,
          -74,
          -73,
          -72,
          -71,
          -70,
          -69,
          -68,
          -67,
          -66,
          -65,
          -64,
          -63,
          -62,
          -61,
          -60,
          -59,
          -58,
          -57,
          -56,
          -55,
          -54,
          -53,
          -52,
          -51,
          -50,
          -49,
          -48,
          -47,
          -46,
          -45,
          -44,
          -43,
          -42,
          -41,
          -40,
          -39,
          -38,
          -37,
          -36,
          -35,
          -34,
          -33,
          -32,
          -31,
          -30,
          -29,
          -28,
          -27,
          -26,
          -25,
          -24,
          -23,
          -22,
          -21,
          -20,
          -19,
          -18,
          -17,
          -16,
          -15,
          -14,
          -13,
          -12,
          -11,
          -10,
          -9,
          -8,
          -7,
          -6,
          -5,
          -4,
          -3,
          -2,
          -1,
          0,
          1,
          2,
          3,
          4,
          5,
          6,
          7,
          8,
          9,
          10,
          11,
          12,
          13,
          14,
          15,
          16,
          17,
          18,
          19,
          20,
          21,
          22,
          23,
          24,
          25,
          26,
          27,
          28,
          29,
          30,
          31,
          32,
          33,
          34,
          35,
          36,
          37,
          38,
          39,
          40,
          41,
          42,
          43,
          44,
          45,
          46,
          47,
          48,
          49,
          50,
          51,
          52,
          53,
          54,
          55,
          56,
          57,
          58,
          59,
          60,
          61,
          62,
          63,
          64,
          65,
          66,
          67,
          68,
          69,
          70,
          71,
          72,
          73,
          74,
          75,
          76,
          77,
          78,
          79,
          80,
          81,
          82,
          83,
          84,
          85,
          86,
          87,
          88,
          89,
          90,
          91,
          92,
          93,
          94,
          95,
          96,
          97,
          98,
          99,
          100,
          101,
          102,
          103,
          104,
          105,
          106,
          107,
          108,
          109,
          110,
          111,
          112,
          113,
          114,
          115,
          116,
          117,
          118,
          119,
          120,
          121,
          122,
          123,
          124,
          125,
          126,
          127,
          128,
          129,
          130,
          131,
          132,
          133,
          134,
          135,
          136,
          137,
          138,
          139,
          140,
          141,
          142,
          143,
          144,
          145,
          146,
          147,
          148,
          149,
          150,
          151,
          152,
          153,
          154,
          155,
          156,
          157,
          158,
          159,
          160,
          161,
          162,
          163,
          164,
          165,
          166,
          167,
          168,
          169,
          170,
          171,
          172,
          173,
          174,
          175,
          176,
          177,
          178,
          179,
          180,
          181,
          182,
          183,
          184,
          185,
          186,
          187,
          188,
          189,
          190,
          191,
          192,
          193,
          194,
          195,
          196,
          197,
          198,
          199,
          200,
          201,
          202,
          203,
          204,
          205,
          206,
          207,
          208,
          209,
          210,
          211,
          212,
          213,
          214,
          215,
          216,
          217,
          218,
          219,
          220,
          221,
          222,
          223,
          224,
          225,
          226,
          227,
          228,
          229,
          230,
          231,
          232,
          233,
          234,
          235,
          236,
          237,
          238,
          239,
          240,
          241,
          242,
          243,
          244,
          245,
          246,
          247,
          248,
          249,
          250,
          251,
          252,
          253,
          254,
          255,
          256,
          257,
          258,
          259,
          260,
          261,
          262,
          263,
          264,
          265,
          266,
          267,
          268,
          269,
          270,
          271,
          272,
          273,
          274,
          275,
          276,
          277,
          278,
          279,
          280,
          281,
          282,
          283,
          284,
          285,
          286,
          287,
          288,
          289,
          290,
          291,
          292,
          293,
          294,
          295,
          296,
          297,
          298,
          299,
          300,
          301,
          302,
          303,
          304,
          305,
          306,
          307,
          308,
          309,
          310,
          311,
          312,
          313,
          314,
          315,
          316,
          317,
          318,
          319,
          320,
          321,
          322,
          323,
          324,
          325,
          326,
          327,
          328,
          329,
          330,
          331,
          332,
          333,
          334,
          335,
          336,
          337,
          338,
          339,
          340,
          341,
          342,
          343,
          344,
          345,
          346,
          347,
          348,
          349,
          350,
          351,
          352,
          353,
          354,
          355,
          356,
          357,
          358,
          359,
          360,
          361,
          362,
          363,
          364,
          365,
          366,
          367,
          368,
          369,
          370,
          371,
          372,
          373,
          374,
          375,
          376,
          377,
          378,
          379,
          380,
          381,
          382,
          383,
          384,
          385,
          386,
          387,
          388,
          389,
          390,
          391,
          392,
          393,
          394,
          395,
          396,
          397,
          398,
          399,
          400,
          401,
          402,
          403,
          404,
          405,
          406,
          407,
          408,
          409,
          410,
          411,
          412,
          413,
          414,
          415,
          416,
          417,
          418,
          419,
          420,
          421,
          422,
          423,
          424,
          425,
          426,
          427,
          428,
          429,
          430,
          431,
          432,
          433,
          434,
          435,
          436,
          437,
          438,
          439,
          440,
          441,
          442,
          443,
          444,
          445,
          446,
          447,
          448,
          449,
          450,
          451,
          452,
          453,
          454,
          455,
          456,
          457,
          458,
          459,
          460,
          461,
          462,
          463,
          464,
          465,
          466,
          467,
          468,
          469,
          470,
          471,
          472,
          473,
          474,
          475,
          476,
          477,
          478,
          479,
          480,
          481,
          482,
          483,
          484,
          485,
          486,
          487,
          488,
          489,
          490,
          491,
          492,
          493,
          494,
          495,
          496,
          497,
          498,
          499,
          500
         ],
         "y": [
          85,
          75,
          109,
          99,
          88,
          104,
          89,
          98,
          91,
          88,
          98,
          85,
          85,
          102,
          85,
          101,
          86,
          84,
          95,
          89,
          90,
          96,
          80,
          90,
          105,
          106,
          106,
          81,
          104,
          84,
          73,
          83,
          108,
          113,
          76,
          96,
          92,
          100,
          87,
          104,
          93,
          102,
          100,
          85,
          101,
          94,
          101,
          97,
          85,
          105,
          100,
          97,
          99,
          84,
          95,
          102,
          111,
          84,
          88,
          96,
          89,
          96,
          95,
          120,
          85,
          95,
          97,
          97,
          100,
          105,
          85,
          89,
          91,
          86,
          90,
          102,
          85,
          87,
          98,
          100,
          100,
          94,
          106,
          92,
          91,
          86,
          92,
          119,
          87,
          89,
          94,
          95,
          120,
          106,
          91,
          101,
          101,
          91,
          90,
          94,
          81,
          113,
          105,
          77,
          95,
          83,
          94,
          113,
          122,
          103,
          96,
          94,
          112,
          102,
          90,
          115,
          100,
          106,
          99,
          112,
          115,
          103,
          115,
          109,
          106,
          116,
          108,
          96,
          92,
          98,
          100,
          106,
          90,
          107,
          92,
          120,
          110,
          112,
          106,
          82,
          103,
          139,
          116,
          100,
          110,
          107,
          93,
          106,
          117,
          101,
          104,
          128,
          109,
          110,
          95,
          113,
          96,
          103,
          108,
          120,
          102,
          115,
          111,
          106,
          132,
          120,
          117,
          122,
          117,
          111,
          110,
          123,
          120,
          141,
          113,
          120,
          111,
          114,
          130,
          127,
          128,
          115,
          153,
          122,
          130,
          125,
          143,
          141,
          131,
          129,
          146,
          129,
          147,
          127,
          143,
          140,
          130,
          132,
          128,
          143,
          167,
          141,
          134,
          147,
          140,
          139,
          134,
          122,
          144,
          120,
          132,
          140,
          134,
          144,
          120,
          120,
          129,
          135,
          125,
          154,
          110,
          137,
          120,
          131,
          126,
          105,
          118,
          116,
          122,
          143,
          120,
          105,
          128,
          116,
          106,
          107,
          122,
          120,
          117,
          121,
          120,
          127,
          125,
          92,
          102,
          110,
          108,
          107,
          115,
          108,
          99,
          89,
          114,
          105,
          114,
          99,
          99,
          119,
          83,
          104,
          96,
          125,
          107,
          107,
          93,
          113,
          114,
          94,
          98,
          112,
          94,
          94,
          111,
          78,
          88,
          105,
          99,
          104,
          115,
          108,
          97,
          108,
          90,
          105,
          108,
          102,
          109,
          104,
          106,
          96,
          88,
          100,
          113,
          102,
          84,
          86,
          98,
          95,
          111,
          104,
          105,
          83,
          103,
          103,
          105,
          103,
          101,
          90,
          87,
          115,
          71,
          101,
          117,
          71,
          78,
          97,
          84,
          79,
          107,
          95,
          90,
          103,
          100,
          83,
          96,
          83,
          102,
          96,
          73,
          102,
          104,
          80,
          108,
          94,
          95,
          99,
          90,
          88,
          86,
          72,
          78,
          106,
          80,
          74,
          94,
          94,
          98,
          89,
          85,
          92,
          94,
          88,
          78,
          80,
          78,
          92,
          89,
          90,
          93,
          87,
          85,
          106,
          96,
          94,
          82,
          86,
          83,
          78,
          86,
          92,
          96,
          93,
          77,
          99,
          92,
          97,
          79,
          84,
          72,
          86,
          92,
          98,
          93,
          106,
          93,
          101,
          114,
          100,
          85,
          79,
          72,
          94,
          84,
          83,
          82,
          94,
          87,
          91,
          95,
          95,
          77,
          117,
          93,
          100,
          105,
          95,
          100,
          87,
          107,
          88,
          110,
          103,
          101,
          93,
          117,
          83,
          80,
          115,
          88,
          98,
          78,
          95,
          101,
          95,
          89,
          108,
          92,
          91,
          80,
          97,
          75,
          102,
          113,
          102,
          96,
          126,
          101,
          84,
          108,
          96,
          82,
          94,
          109,
          119,
          104,
          103,
          91,
          110,
          89,
          106,
          93,
          113,
          101,
          109,
          105,
          126,
          104,
          114,
          110,
          116,
          112,
          129,
          118,
          104,
          100,
          129,
          124,
          128,
          126,
          143,
          119,
          126,
          133,
          132,
          119,
          137,
          131,
          130,
          128,
          148,
          141,
          149,
          144,
          145,
          155,
          174,
          178,
          155,
          156,
          172,
          187,
          196,
          200,
          200,
          232,
          258,
          269,
          175,
          179,
          56,
          1,
          56,
          179,
          175,
          269,
          258,
          232,
          200,
          200,
          196,
          187,
          172,
          156,
          155,
          178,
          174,
          155,
          145,
          144,
          149,
          141,
          148,
          128,
          130,
          131,
          137,
          119,
          132,
          133,
          126,
          119,
          143,
          126,
          128,
          124,
          129,
          100,
          104,
          118,
          129,
          112,
          116,
          110,
          114,
          104,
          126,
          105,
          109,
          101,
          113,
          93,
          106,
          89,
          110,
          91,
          103,
          104,
          119,
          109,
          94,
          82,
          96,
          108,
          84,
          101,
          126,
          96,
          102,
          113,
          102,
          75,
          97,
          80,
          91,
          92,
          108,
          89,
          95,
          101,
          95,
          78,
          98,
          88,
          115,
          80,
          83,
          117,
          93,
          101,
          103,
          110,
          88,
          107,
          87,
          100,
          95,
          105,
          100,
          93,
          117,
          77,
          95,
          95,
          91,
          87,
          94,
          82,
          83,
          84,
          94,
          72,
          79,
          85,
          100,
          114,
          101,
          93,
          106,
          93,
          98,
          92,
          86,
          72,
          84,
          79,
          97,
          92,
          99,
          77,
          93,
          96,
          92,
          86,
          78,
          83,
          86,
          82,
          94,
          96,
          106,
          85,
          87,
          93,
          90,
          89,
          92,
          78,
          80,
          78,
          88,
          94,
          92,
          85,
          89,
          98,
          94,
          94,
          74,
          80,
          106,
          78,
          72,
          86,
          88,
          90,
          99,
          95,
          94,
          108,
          80,
          104,
          102,
          73,
          96,
          102,
          83,
          96,
          83,
          100,
          103,
          90,
          95,
          107,
          79,
          84,
          97,
          78,
          71,
          117,
          101,
          71,
          115,
          87,
          90,
          101,
          103,
          105,
          103,
          103,
          83,
          105,
          104,
          111,
          95,
          98,
          86,
          84,
          102,
          113,
          100,
          88,
          96,
          106,
          104,
          109,
          102,
          108,
          105,
          90,
          108,
          97,
          108,
          115,
          104,
          99,
          105,
          88,
          78,
          111,
          94,
          94,
          112,
          98,
          94,
          114,
          113,
          93,
          107,
          107,
          125,
          96,
          104,
          83,
          119,
          99,
          99,
          114,
          105,
          114,
          89,
          99,
          108,
          115,
          107,
          108,
          110,
          102,
          92,
          125,
          127,
          120,
          121,
          117,
          120,
          122,
          107,
          106,
          116,
          128,
          105,
          120,
          143,
          122,
          116,
          118,
          105,
          126,
          131,
          120,
          137,
          110,
          154,
          125,
          135,
          129,
          120,
          120,
          144,
          134,
          140,
          132,
          120,
          144,
          122,
          134,
          139,
          140,
          147,
          134,
          141,
          167,
          143,
          128,
          132,
          130,
          140,
          143,
          127,
          147,
          129,
          146,
          129,
          131,
          141,
          143,
          125,
          130,
          122,
          153,
          115,
          128,
          127,
          130,
          114,
          111,
          120,
          113,
          141,
          120,
          123,
          110,
          111,
          117,
          122,
          117,
          120,
          132,
          106,
          111,
          115,
          102,
          120,
          108,
          103,
          96,
          113,
          95,
          110,
          109,
          128,
          104,
          101,
          117,
          106,
          93,
          107,
          110,
          100,
          116,
          139,
          103,
          82,
          106,
          112,
          110,
          120,
          92,
          107,
          90,
          106,
          100,
          98,
          92,
          96,
          108,
          116,
          106,
          109,
          115,
          103,
          115,
          112,
          99,
          106,
          100,
          115,
          90,
          102,
          112,
          94,
          96,
          103,
          122,
          113,
          94,
          83,
          95,
          77,
          105,
          113,
          81,
          94,
          90,
          91,
          101,
          101,
          91,
          106,
          120,
          95,
          94,
          89,
          87,
          119,
          92,
          86,
          91,
          92,
          106,
          94,
          100,
          100,
          98,
          87,
          85,
          102,
          90,
          86,
          91,
          89,
          85,
          105,
          100,
          97,
          97,
          95,
          85,
          120,
          95,
          96,
          89,
          96,
          88,
          84,
          111,
          102,
          95,
          84,
          99,
          97,
          100,
          105,
          85,
          97,
          101,
          94,
          101,
          85,
          100,
          102,
          93,
          104,
          87,
          100,
          92,
          96,
          76,
          113,
          108,
          83,
          73,
          84,
          104,
          81,
          106,
          106,
          105,
          90,
          80,
          96,
          90,
          89,
          95,
          84,
          86,
          101,
          85,
          102,
          85,
          85,
          98,
          88,
          91,
          98,
          89,
          104,
          88,
          99,
          109,
          75,
          85
         ]
        }
       ],
       "layout": {
        "height": 350,
        "template": {
         "data": {
          "bar": [
           {
            "error_x": {
             "color": "rgb(36,36,36)"
            },
            "error_y": {
             "color": "rgb(36,36,36)"
            },
            "marker": {
             "line": {
              "color": "white",
              "width": 0.5
             },
             "pattern": {
              "fillmode": "overlay",
              "size": 10,
              "solidity": 0.2
             }
            },
            "type": "bar"
           }
          ],
          "barpolar": [
           {
            "marker": {
             "line": {
              "color": "white",
              "width": 0.5
             },
             "pattern": {
              "fillmode": "overlay",
              "size": 10,
              "solidity": 0.2
             }
            },
            "type": "barpolar"
           }
          ],
          "carpet": [
           {
            "aaxis": {
             "endlinecolor": "rgb(36,36,36)",
             "gridcolor": "white",
             "linecolor": "white",
             "minorgridcolor": "white",
             "startlinecolor": "rgb(36,36,36)"
            },
            "baxis": {
             "endlinecolor": "rgb(36,36,36)",
             "gridcolor": "white",
             "linecolor": "white",
             "minorgridcolor": "white",
             "startlinecolor": "rgb(36,36,36)"
            },
            "type": "carpet"
           }
          ],
          "choropleth": [
           {
            "colorbar": {
             "outlinewidth": 1,
             "tickcolor": "rgb(36,36,36)",
             "ticks": "outside"
            },
            "type": "choropleth"
           }
          ],
          "contour": [
           {
            "colorbar": {
             "outlinewidth": 1,
             "tickcolor": "rgb(36,36,36)",
             "ticks": "outside"
            },
            "colorscale": [
             [
              0,
              "#440154"
             ],
             [
              0.1111111111111111,
              "#482878"
             ],
             [
              0.2222222222222222,
              "#3e4989"
             ],
             [
              0.3333333333333333,
              "#31688e"
             ],
             [
              0.4444444444444444,
              "#26828e"
             ],
             [
              0.5555555555555556,
              "#1f9e89"
             ],
             [
              0.6666666666666666,
              "#35b779"
             ],
             [
              0.7777777777777778,
              "#6ece58"
             ],
             [
              0.8888888888888888,
              "#b5de2b"
             ],
             [
              1,
              "#fde725"
             ]
            ],
            "type": "contour"
           }
          ],
          "contourcarpet": [
           {
            "colorbar": {
             "outlinewidth": 1,
             "tickcolor": "rgb(36,36,36)",
             "ticks": "outside"
            },
            "type": "contourcarpet"
           }
          ],
          "heatmap": [
           {
            "colorbar": {
             "outlinewidth": 1,
             "tickcolor": "rgb(36,36,36)",
             "ticks": "outside"
            },
            "colorscale": [
             [
              0,
              "#440154"
             ],
             [
              0.1111111111111111,
              "#482878"
             ],
             [
              0.2222222222222222,
              "#3e4989"
             ],
             [
              0.3333333333333333,
              "#31688e"
             ],
             [
              0.4444444444444444,
              "#26828e"
             ],
             [
              0.5555555555555556,
              "#1f9e89"
             ],
             [
              0.6666666666666666,
              "#35b779"
             ],
             [
              0.7777777777777778,
              "#6ece58"
             ],
             [
              0.8888888888888888,
              "#b5de2b"
             ],
             [
              1,
              "#fde725"
             ]
            ],
            "type": "heatmap"
           }
          ],
          "heatmapgl": [
           {
            "colorbar": {
             "outlinewidth": 1,
             "tickcolor": "rgb(36,36,36)",
             "ticks": "outside"
            },
            "colorscale": [
             [
              0,
              "#440154"
             ],
             [
              0.1111111111111111,
              "#482878"
             ],
             [
              0.2222222222222222,
              "#3e4989"
             ],
             [
              0.3333333333333333,
              "#31688e"
             ],
             [
              0.4444444444444444,
              "#26828e"
             ],
             [
              0.5555555555555556,
              "#1f9e89"
             ],
             [
              0.6666666666666666,
              "#35b779"
             ],
             [
              0.7777777777777778,
              "#6ece58"
             ],
             [
              0.8888888888888888,
              "#b5de2b"
             ],
             [
              1,
              "#fde725"
             ]
            ],
            "type": "heatmapgl"
           }
          ],
          "histogram": [
           {
            "marker": {
             "line": {
              "color": "white",
              "width": 0.6
             }
            },
            "type": "histogram"
           }
          ],
          "histogram2d": [
           {
            "colorbar": {
             "outlinewidth": 1,
             "tickcolor": "rgb(36,36,36)",
             "ticks": "outside"
            },
            "colorscale": [
             [
              0,
              "#440154"
             ],
             [
              0.1111111111111111,
              "#482878"
             ],
             [
              0.2222222222222222,
              "#3e4989"
             ],
             [
              0.3333333333333333,
              "#31688e"
             ],
             [
              0.4444444444444444,
              "#26828e"
             ],
             [
              0.5555555555555556,
              "#1f9e89"
             ],
             [
              0.6666666666666666,
              "#35b779"
             ],
             [
              0.7777777777777778,
              "#6ece58"
             ],
             [
              0.8888888888888888,
              "#b5de2b"
             ],
             [
              1,
              "#fde725"
             ]
            ],
            "type": "histogram2d"
           }
          ],
          "histogram2dcontour": [
           {
            "colorbar": {
             "outlinewidth": 1,
             "tickcolor": "rgb(36,36,36)",
             "ticks": "outside"
            },
            "colorscale": [
             [
              0,
              "#440154"
             ],
             [
              0.1111111111111111,
              "#482878"
             ],
             [
              0.2222222222222222,
              "#3e4989"
             ],
             [
              0.3333333333333333,
              "#31688e"
             ],
             [
              0.4444444444444444,
              "#26828e"
             ],
             [
              0.5555555555555556,
              "#1f9e89"
             ],
             [
              0.6666666666666666,
              "#35b779"
             ],
             [
              0.7777777777777778,
              "#6ece58"
             ],
             [
              0.8888888888888888,
              "#b5de2b"
             ],
             [
              1,
              "#fde725"
             ]
            ],
            "type": "histogram2dcontour"
           }
          ],
          "mesh3d": [
           {
            "colorbar": {
             "outlinewidth": 1,
             "tickcolor": "rgb(36,36,36)",
             "ticks": "outside"
            },
            "type": "mesh3d"
           }
          ],
          "parcoords": [
           {
            "line": {
             "colorbar": {
              "outlinewidth": 1,
              "tickcolor": "rgb(36,36,36)",
              "ticks": "outside"
             }
            },
            "type": "parcoords"
           }
          ],
          "pie": [
           {
            "automargin": true,
            "type": "pie"
           }
          ],
          "scatter": [
           {
            "fillpattern": {
             "fillmode": "overlay",
             "size": 10,
             "solidity": 0.2
            },
            "type": "scatter"
           }
          ],
          "scatter3d": [
           {
            "line": {
             "colorbar": {
              "outlinewidth": 1,
              "tickcolor": "rgb(36,36,36)",
              "ticks": "outside"
             }
            },
            "marker": {
             "colorbar": {
              "outlinewidth": 1,
              "tickcolor": "rgb(36,36,36)",
              "ticks": "outside"
             }
            },
            "type": "scatter3d"
           }
          ],
          "scattercarpet": [
           {
            "marker": {
             "colorbar": {
              "outlinewidth": 1,
              "tickcolor": "rgb(36,36,36)",
              "ticks": "outside"
             }
            },
            "type": "scattercarpet"
           }
          ],
          "scattergeo": [
           {
            "marker": {
             "colorbar": {
              "outlinewidth": 1,
              "tickcolor": "rgb(36,36,36)",
              "ticks": "outside"
             }
            },
            "type": "scattergeo"
           }
          ],
          "scattergl": [
           {
            "marker": {
             "colorbar": {
              "outlinewidth": 1,
              "tickcolor": "rgb(36,36,36)",
              "ticks": "outside"
             }
            },
            "type": "scattergl"
           }
          ],
          "scattermapbox": [
           {
            "marker": {
             "colorbar": {
              "outlinewidth": 1,
              "tickcolor": "rgb(36,36,36)",
              "ticks": "outside"
             }
            },
            "type": "scattermapbox"
           }
          ],
          "scatterpolar": [
           {
            "marker": {
             "colorbar": {
              "outlinewidth": 1,
              "tickcolor": "rgb(36,36,36)",
              "ticks": "outside"
             }
            },
            "type": "scatterpolar"
           }
          ],
          "scatterpolargl": [
           {
            "marker": {
             "colorbar": {
              "outlinewidth": 1,
              "tickcolor": "rgb(36,36,36)",
              "ticks": "outside"
             }
            },
            "type": "scatterpolargl"
           }
          ],
          "scatterternary": [
           {
            "marker": {
             "colorbar": {
              "outlinewidth": 1,
              "tickcolor": "rgb(36,36,36)",
              "ticks": "outside"
             }
            },
            "type": "scatterternary"
           }
          ],
          "surface": [
           {
            "colorbar": {
             "outlinewidth": 1,
             "tickcolor": "rgb(36,36,36)",
             "ticks": "outside"
            },
            "colorscale": [
             [
              0,
              "#440154"
             ],
             [
              0.1111111111111111,
              "#482878"
             ],
             [
              0.2222222222222222,
              "#3e4989"
             ],
             [
              0.3333333333333333,
              "#31688e"
             ],
             [
              0.4444444444444444,
              "#26828e"
             ],
             [
              0.5555555555555556,
              "#1f9e89"
             ],
             [
              0.6666666666666666,
              "#35b779"
             ],
             [
              0.7777777777777778,
              "#6ece58"
             ],
             [
              0.8888888888888888,
              "#b5de2b"
             ],
             [
              1,
              "#fde725"
             ]
            ],
            "type": "surface"
           }
          ],
          "table": [
           {
            "cells": {
             "fill": {
              "color": "rgb(237,237,237)"
             },
             "line": {
              "color": "white"
             }
            },
            "header": {
             "fill": {
              "color": "rgb(217,217,217)"
             },
             "line": {
              "color": "white"
             }
            },
            "type": "table"
           }
          ]
         },
         "layout": {
          "annotationdefaults": {
           "arrowhead": 0,
           "arrowwidth": 1
          },
          "autotypenumbers": "strict",
          "coloraxis": {
           "colorbar": {
            "outlinewidth": 1,
            "tickcolor": "rgb(36,36,36)",
            "ticks": "outside"
           }
          },
          "colorscale": {
           "diverging": [
            [
             0,
             "rgb(103,0,31)"
            ],
            [
             0.1,
             "rgb(178,24,43)"
            ],
            [
             0.2,
             "rgb(214,96,77)"
            ],
            [
             0.3,
             "rgb(244,165,130)"
            ],
            [
             0.4,
             "rgb(253,219,199)"
            ],
            [
             0.5,
             "rgb(247,247,247)"
            ],
            [
             0.6,
             "rgb(209,229,240)"
            ],
            [
             0.7,
             "rgb(146,197,222)"
            ],
            [
             0.8,
             "rgb(67,147,195)"
            ],
            [
             0.9,
             "rgb(33,102,172)"
            ],
            [
             1,
             "rgb(5,48,97)"
            ]
           ],
           "sequential": [
            [
             0,
             "#440154"
            ],
            [
             0.1111111111111111,
             "#482878"
            ],
            [
             0.2222222222222222,
             "#3e4989"
            ],
            [
             0.3333333333333333,
             "#31688e"
            ],
            [
             0.4444444444444444,
             "#26828e"
            ],
            [
             0.5555555555555556,
             "#1f9e89"
            ],
            [
             0.6666666666666666,
             "#35b779"
            ],
            [
             0.7777777777777778,
             "#6ece58"
            ],
            [
             0.8888888888888888,
             "#b5de2b"
            ],
            [
             1,
             "#fde725"
            ]
           ],
           "sequentialminus": [
            [
             0,
             "#440154"
            ],
            [
             0.1111111111111111,
             "#482878"
            ],
            [
             0.2222222222222222,
             "#3e4989"
            ],
            [
             0.3333333333333333,
             "#31688e"
            ],
            [
             0.4444444444444444,
             "#26828e"
            ],
            [
             0.5555555555555556,
             "#1f9e89"
            ],
            [
             0.6666666666666666,
             "#35b779"
            ],
            [
             0.7777777777777778,
             "#6ece58"
            ],
            [
             0.8888888888888888,
             "#b5de2b"
            ],
            [
             1,
             "#fde725"
            ]
           ]
          },
          "colorway": [
           "#1F77B4",
           "#FF7F0E",
           "#2CA02C",
           "#D62728",
           "#9467BD",
           "#8C564B",
           "#E377C2",
           "#7F7F7F",
           "#BCBD22",
           "#17BECF"
          ],
          "font": {
           "color": "rgb(36,36,36)"
          },
          "geo": {
           "bgcolor": "white",
           "lakecolor": "white",
           "landcolor": "white",
           "showlakes": true,
           "showland": true,
           "subunitcolor": "white"
          },
          "hoverlabel": {
           "align": "left"
          },
          "hovermode": "closest",
          "mapbox": {
           "style": "light"
          },
          "paper_bgcolor": "white",
          "plot_bgcolor": "white",
          "polar": {
           "angularaxis": {
            "gridcolor": "rgb(232,232,232)",
            "linecolor": "rgb(36,36,36)",
            "showgrid": false,
            "showline": true,
            "ticks": "outside"
           },
           "bgcolor": "white",
           "radialaxis": {
            "gridcolor": "rgb(232,232,232)",
            "linecolor": "rgb(36,36,36)",
            "showgrid": false,
            "showline": true,
            "ticks": "outside"
           }
          },
          "scene": {
           "xaxis": {
            "backgroundcolor": "white",
            "gridcolor": "rgb(232,232,232)",
            "gridwidth": 2,
            "linecolor": "rgb(36,36,36)",
            "showbackground": true,
            "showgrid": false,
            "showline": true,
            "ticks": "outside",
            "zeroline": false,
            "zerolinecolor": "rgb(36,36,36)"
           },
           "yaxis": {
            "backgroundcolor": "white",
            "gridcolor": "rgb(232,232,232)",
            "gridwidth": 2,
            "linecolor": "rgb(36,36,36)",
            "showbackground": true,
            "showgrid": false,
            "showline": true,
            "ticks": "outside",
            "zeroline": false,
            "zerolinecolor": "rgb(36,36,36)"
           },
           "zaxis": {
            "backgroundcolor": "white",
            "gridcolor": "rgb(232,232,232)",
            "gridwidth": 2,
            "linecolor": "rgb(36,36,36)",
            "showbackground": true,
            "showgrid": false,
            "showline": true,
            "ticks": "outside",
            "zeroline": false,
            "zerolinecolor": "rgb(36,36,36)"
           }
          },
          "shapedefaults": {
           "fillcolor": "black",
           "line": {
            "width": 0
           },
           "opacity": 0.3
          },
          "ternary": {
           "aaxis": {
            "gridcolor": "rgb(232,232,232)",
            "linecolor": "rgb(36,36,36)",
            "showgrid": false,
            "showline": true,
            "ticks": "outside"
           },
           "baxis": {
            "gridcolor": "rgb(232,232,232)",
            "linecolor": "rgb(36,36,36)",
            "showgrid": false,
            "showline": true,
            "ticks": "outside"
           },
           "bgcolor": "white",
           "caxis": {
            "gridcolor": "rgb(232,232,232)",
            "linecolor": "rgb(36,36,36)",
            "showgrid": false,
            "showline": true,
            "ticks": "outside"
           }
          },
          "title": {
           "x": 0.05
          },
          "xaxis": {
           "automargin": true,
           "gridcolor": "rgb(232,232,232)",
           "linecolor": "rgb(36,36,36)",
           "showgrid": false,
           "showline": true,
           "ticks": "outside",
           "title": {
            "standoff": 15
           },
           "zeroline": false,
           "zerolinecolor": "rgb(36,36,36)"
          },
          "yaxis": {
           "automargin": true,
           "gridcolor": "rgb(232,232,232)",
           "linecolor": "rgb(36,36,36)",
           "showgrid": false,
           "showline": true,
           "ticks": "outside",
           "title": {
            "standoff": 15
           },
           "zeroline": false,
           "zerolinecolor": "rgb(36,36,36)"
          }
         }
        },
        "title": {
         "text": "Auto Correlogram"
        },
        "width": 350,
        "xaxis": {
         "title": {
          "text": "Lags (ms)"
         }
        },
        "yaxis": {
         "range": [
          0,
          null
         ],
         "title": {
          "text": "Count"
         }
        }
       }
      }
     },
     "metadata": {},
     "output_type": "display_data"
    }
   ],
   "source": [
    "# Plot Correlogram\n",
    "plot_auto_correlogram(spike_times=spike_times, bin_size=0.001, window_size=1)\n"
   ]
  },
  {
   "cell_type": "markdown",
   "id": "dfa1267a",
   "metadata": {},
   "source": [
    "### Plot depth waveforms\n"
   ]
  },
  {
   "attachments": {},
   "cell_type": "markdown",
   "id": "8855d8bb",
   "metadata": {},
   "source": [
    "The electrode site where the peak waveform was found will be plotted in red. The `y_range` parameter can be modified to alter the vertical range in which the neighboring waveforms are found.\n"
   ]
  },
  {
   "cell_type": "code",
   "execution_count": 36,
   "id": "1177a998",
   "metadata": {},
   "outputs": [
    {
     "data": {
      "application/vnd.plotly.v1+json": {
       "config": {
        "plotlyServerURL": "https://plot.ly"
       },
       "data": [
        {
         "hovertemplate": "electrode 6<br>x = 0 μm<br>y = 60 μm<extra></extra>",
         "line": {
          "color": "rgb(51, 76.5, 204)",
          "width": 1.5
         },
         "mode": "lines",
         "type": "scatter",
         "x": [
          0,
          0.25,
          0.5,
          0.75,
          1,
          1.25,
          1.5,
          1.75,
          2,
          2.25,
          2.5,
          2.75,
          3,
          3.25,
          3.5,
          3.75,
          4,
          4.25,
          4.5,
          4.75,
          5,
          5.25,
          5.5,
          5.75,
          6,
          6.25,
          6.5,
          6.75,
          7,
          7.25,
          7.5,
          7.749999999999999,
          8,
          8.25,
          8.5,
          8.75,
          9,
          9.25,
          9.5,
          9.75,
          10,
          10.25,
          10.5,
          10.75,
          11,
          11.25,
          11.5,
          11.75,
          12,
          12.25,
          12.5,
          12.75,
          13,
          13.25,
          13.5,
          13.75,
          14,
          14.25,
          14.5,
          14.75,
          15,
          15.249999999999998,
          15.499999999999998,
          15.75
         ],
         "y": [
          57.47669198895028,
          55.51536602209944,
          55.37724447513813,
          49.63138812154702,
          53.96840469613261,
          57.20044889502762,
          54.85238259668509,
          55.48774171270719,
          54.02365331491714,
          54.96287983425415,
          52.67006215469618,
          55.294371546961344,
          54.52089088397793,
          57.062327348066304,
          59.659012430939214,
          63.802658839778985,
          66.53746546961324,
          67.22807320441987,
          62.80818370165744,
          60.54299033149172,
          63.222548342541444,
          61.62033839779005,
          66.53746546961324,
          65.8468577348066,
          64.6866367403315,
          65.01812845303866,
          62.89105662983425,
          64.99050414364638,
          64.85238259668506,
          64.60376381215468,
          65.12862569060769,
          63.471167127071794,
          63.88553176795577,
          63.11205110497235,
          60.15625,
          61.28884668508286,
          59.134150552486176,
          62.17282458563534,
          58.6645372928177,
          58.885531767955825,
          57.47669198895028,
          55.902106353591165,
          60.570614640883974,
          61.178349447513796,
          60.98497928176795,
          62.20044889502762,
          61.482216850828706,
          59.96287983425415,
          58.498791436464074,
          55.625863259668535,
          60.18387430939228,
          58.36066988950276,
          60.15625,
          63.60928867403314,
          57.80818370165744,
          61.67558701657455,
          59.24464779005524,
          56.92420580110499,
          61.09547651933701,
          58.80265883977901,
          57.587189226519314,
          60.10100138121547,
          59.96287983425415,
          61.8137085635359
         ]
        },
        {
         "hovertemplate": "electrode 7<br>x = 32 μm<br>y = 60 μm<extra></extra>",
         "line": {
          "color": "rgb(51, 76.5, 204)",
          "width": 1.5
         },
         "mode": "lines",
         "type": "scatter",
         "x": [
          32,
          32.25,
          32.5,
          32.75,
          33,
          33.25,
          33.5,
          33.75,
          34,
          34.25,
          34.5,
          34.75,
          35,
          35.25,
          35.5,
          35.75,
          36,
          36.25,
          36.5,
          36.75,
          37,
          37.25,
          37.5,
          37.75,
          38,
          38.25,
          38.5,
          38.75,
          39,
          39.25,
          39.5,
          39.75,
          40,
          40.25,
          40.5,
          40.75,
          41,
          41.25,
          41.5,
          41.75,
          42,
          42.25,
          42.5,
          42.75,
          43,
          43.25,
          43.5,
          43.75,
          44,
          44.25,
          44.5,
          44.75,
          45,
          45.25,
          45.5,
          45.75,
          46,
          46.25,
          46.5,
          46.75,
          47,
          47.25,
          47.5,
          47.75
         ],
         "y": [
          53.797047651933724,
          57.581578038674046,
          55.4821305248619,
          51.669975828729314,
          54.10091505524864,
          53.24456146408842,
          54.18378798342544,
          54.98489295580113,
          54.90202002762433,
          56.97384323204421,
          55.316384668508306,
          56.062241022099464,
          56.366108425414374,
          57.609202348066304,
          60.48213052486188,
          58.46555593922653,
          61.94621892265193,
          64.37715814917127,
          63.46555593922651,
          63.05119129834253,
          64.46003107734806,
          61.94621892265193,
          63.10643991712707,
          65.50975483425412,
          65.26113604972375,
          66.642351519337,
          63.603677486187834,
          65.81362223756904,
          63.797047651933696,
          61.75284875690607,
          62.498705110497234,
          63.63130179558011,
          63.99041781767955,
          58.907544889502766,
          57.55395372928179,
          58.43793162983426,
          58.27218577348067,
          59.29428522099448,
          57.33295925414365,
          59.01804212707183,
          57.664450966850836,
          58.29981008287293,
          59.01804212707183,
          60.012517265193374,
          60.31638466850829,
          61.614727209944746,
          62.22246201657458,
          60.868870856353595,
          58.410307320442,
          57.33295925414365,
          59.48765538674034,
          60.62025207182321,
          60.50975483425414,
          62.774948204419886,
          63.41030732044198,
          60.97936809392265,
          59.98489295580111,
          58.93516919889504,
          60.868870856353595,
          60.78599792817679,
          60.78599792817679,
          63.741799033149164,
          63.603677486187834,
          62.857821132596676
         ]
        },
        {
         "hovertemplate": "electrode 8<br>x = 16 μm<br>y = 80 μm<extra></extra>",
         "line": {
          "color": "rgb(51, 76.5, 204)",
          "width": 1.5
         },
         "mode": "lines",
         "type": "scatter",
         "x": [
          16,
          16.25,
          16.5,
          16.75,
          17,
          17.25,
          17.5,
          17.75,
          18,
          18.25,
          18.5,
          18.75,
          19,
          19.25,
          19.5,
          19.75,
          20,
          20.25,
          20.5,
          20.75,
          21,
          21.25,
          21.5,
          21.75,
          22,
          22.25,
          22.5,
          22.75,
          23,
          23.25,
          23.5,
          23.75,
          24,
          24.25,
          24.5,
          24.75,
          25,
          25.25,
          25.5,
          25.75,
          26,
          26.25,
          26.5,
          26.75,
          27,
          27.25,
          27.5,
          27.75,
          28,
          28.25,
          28.5,
          28.75,
          29,
          29.25,
          29.5,
          29.75,
          30,
          30.25,
          30.5,
          30.75,
          31,
          31.25,
          31.5,
          31.75
         ],
         "y": [
          73.13320096685085,
          72.82933356353593,
          71.91773135359118,
          70.34314571823207,
          70.61938881215471,
          69.12767610497241,
          70.42601864640886,
          72.71883632596688,
          75.39839433701658,
          75.7022617403315,
          73.879057320442,
          76.2547479281768,
          78.40944406077348,
          79.37629488950276,
          79.76303522099447,
          82.24922306629833,
          80.39839433701657,
          84.01717886740329,
          82.55309046961324,
          82.85695787292815,
          83.98955455801104,
          83.3818197513812,
          84.26579765193368,
          82.44259323204417,
          85.50889157458562,
          86.72436118784528,
          84.70778660220992,
          86.42049378453036,
          85.23264848066296,
          85.0392783149171,
          84.29342196132595,
          81.17187499999999,
          79.9011567679558,
          80.17739986187846,
          78.46469267955801,
          79.7354109116022,
          81.86248273480662,
          80.86800759668508,
          81.69673687845302,
          80.17739986187846,
          78.6304385359116,
          77.58071477900552,
          76.9729799723757,
          80.31552140883977,
          80.3707700276243,
          80.2878970994475,
          78.07795234806629,
          81.11662638121545,
          80.61938881215468,
          79.23817334254143,
          82.60833908839777,
          81.36524516574585,
          80.75751035911601,
          83.40944406077345,
          83.79618439226518,
          81.28237223756905,
          81.80723411602209,
          79.59728936464087,
          83.54756560773478,
          80.72988604972375,
          82.88458218232043,
          82.93983080110496,
          83.82380870165744,
          80.20502417127071
         ]
        },
        {
         "hovertemplate": "electrode 9<br>x = 48 μm<br>y = 80 μm<extra></extra>",
         "line": {
          "color": "rgb(51, 76.5, 204)",
          "width": 1.5
         },
         "mode": "lines",
         "type": "scatter",
         "x": [
          48,
          48.25,
          48.5,
          48.75,
          49,
          49.25,
          49.5,
          49.75,
          50,
          50.25,
          50.5,
          50.75,
          51,
          51.25,
          51.5,
          51.75,
          52,
          52.25,
          52.5,
          52.75,
          53,
          53.25,
          53.5,
          53.75,
          54,
          54.25,
          54.5,
          54.75,
          55,
          55.25,
          55.5,
          55.75,
          56,
          56.25,
          56.5,
          56.75,
          57,
          57.25,
          57.5,
          57.75,
          58,
          58.25,
          58.5,
          58.75,
          59,
          59.25,
          59.5,
          59.75,
          60,
          60.25,
          60.5,
          60.75,
          61,
          61.25,
          61.5,
          61.75,
          62,
          62.25,
          62.5,
          62.75,
          63,
          63.25,
          63.5,
          63.75
         ],
         "y": [
          76.60436809392266,
          74.50492058011054,
          72.68171616022101,
          73.98005870165747,
          76.38337361878453,
          73.84193715469613,
          75.33364986187848,
          74.8364122928177,
          76.99110842541438,
          77.87508632596686,
          76.60436809392266,
          75.83088743093921,
          78.67619129834253,
          80.63751726519337,
          82.3502244475138,
          81.82536256906079,
          81.82536256906079,
          83.48282113259668,
          79.50492058011048,
          81.52149516574585,
          80.58226864640886,
          80.58226864640886,
          83.20657803867402,
          84.4772962707182,
          87.37784875690605,
          86.5491194751381,
          84.00768301104969,
          83.37232389502759,
          84.89166091160217,
          83.39994820441987,
          85.1126553867403,
          85.6927658839779,
          83.620942679558,
          78.2342023480663,
          78.81431284530385,
          79.4220476519337,
          81.52149516574585,
          79.94690953038673,
          80.47177140883977,
          79.56016919889501,
          77.62646754143645,
          77.76458908839777,
          79.97453383977899,
          76.60436809392266,
          78.4551968232044,
          78.4551968232044,
          78.01320787292818,
          77.07398135359114,
          75.41652279005524,
          76.30050069060775,
          78.92481008287294,
          80.96900897790056,
          79.61541781767957,
          80.91376035911603,
          80.25077693370164,
          80.49939571823205,
          78.42757251381215,
          78.70381560773481,
          83.39994820441987,
          83.31707527624309,
          82.1844785911602,
          82.57121892265192,
          84.4220476519337,
          83.98005870165741
         ]
        },
        {
         "hovertemplate": "electrode 10<br>x = 0 μm<br>y = 100 μm<extra></extra>",
         "line": {
          "color": "rgb(51, 76.5, 204)",
          "width": 1.5
         },
         "mode": "lines",
         "type": "scatter",
         "x": [
          0,
          0.25,
          0.5,
          0.75,
          1,
          1.25,
          1.5,
          1.75,
          2,
          2.25,
          2.5,
          2.75,
          3,
          3.25,
          3.5,
          3.75,
          4,
          4.25,
          4.5,
          4.75,
          5,
          5.25,
          5.5,
          5.75,
          6,
          6.25,
          6.5,
          6.75,
          7,
          7.25,
          7.5,
          7.749999999999999,
          8,
          8.25,
          8.5,
          8.75,
          9,
          9.25,
          9.5,
          9.75,
          10,
          10.25,
          10.5,
          10.75,
          11,
          11.25,
          11.5,
          11.75,
          12,
          12.25,
          12.5,
          12.75,
          13,
          13.25,
          13.5,
          13.75,
          14,
          14.25,
          14.5,
          14.75,
          15,
          15.249999999999998,
          15.499999999999998,
          15.75
         ],
         "y": [
          97.93551450276243,
          97.60402279005527,
          95.86369129834256,
          94.84159185082873,
          96.63717196132598,
          93.95761395027628,
          93.15650897790056,
          93.79186809392266,
          94.45485151933701,
          94.17860842541435,
          92.05153660220995,
          92.8250172651934,
          95.80844267955803,
          99.64822168508286,
          100.44932665745856,
          100.25595649171268,
          102.74214433701653,
          104.73109461325967,
          100.0073377071823,
          100.14545925414365,
          103.101260359116,
          102.05153660220992,
          102.74214433701653,
          104.28910566298339,
          106.4438017955801,
          103.37750345303866,
          101.13993439226519,
          103.68137085635357,
          103.01838743093919,
          103.68137085635357,
          101.83054212707182,
          101.33330455801104,
          101.58192334254142,
          99.62059737569061,
          101.77529350828726,
          103.26700621546959,
          103.29463052486184,
          104.45485151933701,
          105.55982389502762,
          104.09573549723754,
          101.4990504143646,
          99.89684046961327,
          101.11231008287291,
          103.18413328729281,
          103.40512776243094,
          103.7366194751381,
          102.1344095303867,
          100.20070787292815,
          98.07363604972375,
          95.06258632596686,
          96.6095476519337,
          96.52667472375688,
          98.54324930939225,
          99.75871892265195,
          102.63164709944749,
          100.44932665745856,
          98.26700621546959,
          99.9520890883978,
          101.27805593922653,
          100.36645372928177,
          100.03496201657458,
          99.39960290055248,
          99.62059737569061,
          96.83054212707182
         ]
        },
        {
         "hovertemplate": "electrode 11<br>x = 32 μm<br>y = 100 μm<extra></extra>",
         "line": {
          "color": "rgb(51, 76.5, 204)",
          "width": 1.5
         },
         "mode": "lines",
         "type": "scatter",
         "x": [
          32,
          32.25,
          32.5,
          32.75,
          33,
          33.25,
          33.5,
          33.75,
          34,
          34.25,
          34.5,
          34.75,
          35,
          35.25,
          35.5,
          35.75,
          36,
          36.25,
          36.5,
          36.75,
          37,
          37.25,
          37.5,
          37.75,
          38,
          38.25,
          38.5,
          38.75,
          39,
          39.25,
          39.5,
          39.75,
          40,
          40.25,
          40.5,
          40.75,
          41,
          41.25,
          41.5,
          41.75,
          42,
          42.25,
          42.5,
          42.75,
          43,
          43.25,
          43.5,
          43.75,
          44,
          44.25,
          44.5,
          44.75,
          45,
          45.25,
          45.5,
          45.75,
          46,
          46.25,
          46.5,
          46.75,
          47,
          47.25,
          47.5,
          47.75
         ],
         "y": [
          95.25681975138124,
          92.96400207182323,
          92.77063190607738,
          92.49438881215474,
          94.4280904696133,
          92.63251035911605,
          94.04135013812157,
          93.35074240331495,
          96.14079765193372,
          94.70433356353594,
          95.50543853591161,
          96.0026761049724,
          97.5772617403315,
          99.4833390883978,
          102.52201312154695,
          101.61041091160222,
          101.55516229281767,
          103.15737223756906,
          100.86455455801105,
          100.14632251381215,
          102.7982562154696,
          104.75958218232043,
          102.68775897790054,
          106.58278660220992,
          106.58278660220992,
          107.57726174033148,
          103.65460980662982,
          102.35626726519337,
          104.92532803867402,
          101.96952693370164,
          101.63803522099448,
          103.57173687845304,
          100.83693024861878,
          97.85350483425415,
          99.37284185082872,
          101.83140538674033,
          101.94190262430939,
          100.8921788674033,
          99.81483080110499,
          102.8811291436464,
          103.82035566298343,
          100.09107389502763,
          101.00267610497237,
          101.4446650552486,
          99.04135013812156,
          100.14632251381215,
          99.81483080110499,
          101.41704074585635,
          96.74853245856355,
          97.35626726519338,
          101.25129488950276,
          98.62698549723758,
          101.58278660220994,
          103.54411256906077,
          99.73195787292818,
          97.96400207182322,
          98.24024516574586,
          96.69328383977901,
          101.25129488950276,
          102.13527279005524,
          100.58831146408839,
          102.2457700276243,
          100.91980317679558,
          102.60488604972376
         ]
        },
        {
         "hovertemplate": "electrode 12<br>x = 16 μm<br>y = 120 μm<extra></extra>",
         "line": {
          "color": "rgb(51, 76.5, 204)",
          "width": 1.5
         },
         "mode": "lines",
         "type": "scatter",
         "x": [
          16,
          16.25,
          16.5,
          16.75,
          17,
          17.25,
          17.5,
          17.75,
          18,
          18.25,
          18.5,
          18.75,
          19,
          19.25,
          19.5,
          19.75,
          20,
          20.25,
          20.5,
          20.75,
          21,
          21.25,
          21.5,
          21.75,
          22,
          22.25,
          22.5,
          22.75,
          23,
          23.25,
          23.5,
          23.75,
          24,
          24.25,
          24.5,
          24.75,
          25,
          25.25,
          25.5,
          25.75,
          26,
          26.25,
          26.5,
          26.75,
          27,
          27.25,
          27.5,
          27.75,
          28,
          28.25,
          28.5,
          28.75,
          29,
          29.25,
          29.5,
          29.75,
          30,
          30.25,
          30.5,
          30.75,
          31,
          31.25,
          31.5,
          31.75
         ],
         "y": [
          119.10609461325967,
          115.18344267955803,
          113.0839951657459,
          112.61438190607737,
          113.77460290055254,
          110.18344267955808,
          113.74697859116026,
          112.72487914364646,
          112.58675759668512,
          113.27736533149175,
          112.78012776243096,
          115.10056975138124,
          116.59228245856357,
          118.88510013812157,
          118.63648135359117,
          121.26079074585635,
          121.42653660220995,
          122.61438190607737,
          116.53703383977904,
          121.06742058011051,
          120.45968577348069,
          123.63648135359117,
          122.22764157458565,
          125.59780732044197,
          128.13924378453038,
          127.0342714088398,
          122.53150897790056,
          121.28841505524863,
          123.85747582872929,
          124.38233770718233,
          126.37128798342539,
          125.51493439226522,
          122.39338743093924,
          122.75250345303868,
          123.27736533149172,
          122.75250345303868,
          119.18896754143648,
          123.38786256906076,
          124.10609461325967,
          123.88510013812154,
          121.42653660220995,
          120.15581837016575,
          120.9845476519337,
          122.91824930939225,
          120.37681284530387,
          122.4210117403315,
          122.2000172651934,
          119.38233770718233,
          117.42101174033152,
          116.6199067679558,
          118.49835980662985,
          117.8353763812155,
          120.51493439226522,
          120.4320614640884,
          121.39891229281767,
          118.58123273480666,
          117.39338743093924,
          118.71935428176798,
          121.89614986187846,
          120.87405041436466,
          120.45968577348069,
          122.39338743093924,
          121.78565262430942,
          121.34366367403317
         ]
        },
        {
         "hovertemplate": "electrode 13<br>x = 48 μm<br>y = 120 μm<extra></extra>",
         "line": {
          "color": "red",
          "width": 1.5
         },
         "mode": "lines",
         "type": "scatter",
         "x": [
          48,
          48.25,
          48.5,
          48.75,
          49,
          49.25,
          49.5,
          49.75,
          50,
          50.25,
          50.5,
          50.75,
          51,
          51.25,
          51.5,
          51.75,
          52,
          52.25,
          52.5,
          52.75,
          53,
          53.25,
          53.5,
          53.75,
          54,
          54.25,
          54.5,
          54.75,
          55,
          55.25,
          55.5,
          55.75,
          56,
          56.25,
          56.5,
          56.75,
          57,
          57.25,
          57.5,
          57.75,
          58,
          58.25,
          58.5,
          58.75,
          59,
          59.25,
          59.5,
          59.75,
          60,
          60.25,
          60.5,
          60.75,
          61,
          61.25,
          61.5,
          61.75,
          62,
          62.25,
          62.5,
          62.75,
          63,
          63.25,
          63.5,
          63.75
         ],
         "y": [
          118.27261740331492,
          114.23946823204422,
          113.05162292817681,
          114.87482734806632,
          114.48808701657461,
          111.06267265193372,
          113.88035220994477,
          115.31681629834256,
          114.32234116022101,
          114.65383287292819,
          111.69803176795583,
          117.02952348066299,
          121.33891574585635,
          120.95217541436463,
          121.72565607734806,
          121.83615331491713,
          119.26709254143647,
          119.37758977900553,
          116.25604281767957,
          119.29471685082873,
          120.31681629834254,
          125.42731353591158,
          124.51571132596683,
          127.9411256906077,
          128.6593577348066,
          128.6593577348066,
          123.18974447513811,
          122.8030041436464,
          125.15107044198894,
          126.03504834254142,
          127.4715124309392,
          126.64278314917125,
          126.03504834254142,
          122.94112569060772,
          122.7201312154696,
          119.04609806629834,
          121.17316988950276,
          123.65935773480662,
          123.13449585635358,
          122.77537983425414,
          119.93007596685082,
          121.25604281767956,
          122.27814226519337,
          123.13449585635358,
          123.49361187845302,
          120.12344613259668,
          117.33339088397791,
          117.99637430939227,
          112.1123964088398,
          113.88035220994477,
          116.09029696132598,
          115.97979972375691,
          117.80300414364642,
          117.14002071823205,
          119.21184392265194,
          119.70908149171271,
          115.78642955801106,
          115.97979972375691,
          120.06819751381215,
          119.68145718232044,
          122.00189917127071,
          122.44388812154695,
          121.7809046961326,
          123.54886049723756
         ]
        },
        {
         "hovertemplate": "electrode 14<br>x = 0 μm<br>y = 140 μm<extra></extra>",
         "line": {
          "color": "rgb(51, 76.5, 204)",
          "width": 1.5
         },
         "mode": "lines",
         "type": "scatter",
         "x": [
          0,
          0.25,
          0.5,
          0.75,
          1,
          1.25,
          1.5,
          1.75,
          2,
          2.25,
          2.5,
          2.75,
          3,
          3.25,
          3.5,
          3.75,
          4,
          4.25,
          4.5,
          4.75,
          5,
          5.25,
          5.5,
          5.75,
          6,
          6.25,
          6.5,
          6.75,
          7,
          7.25,
          7.5,
          7.749999999999999,
          8,
          8.25,
          8.5,
          8.75,
          9,
          9.25,
          9.5,
          9.75,
          10,
          10.25,
          10.5,
          10.75,
          11,
          11.25,
          11.5,
          11.75,
          12,
          12.25,
          12.5,
          12.75,
          13,
          13.25,
          13.5,
          13.75,
          14,
          14.25,
          14.5,
          14.75,
          15,
          15.249999999999998,
          15.499999999999998,
          15.75
         ],
         "y": [
          139.45269337016566,
          143.0714779005524,
          138.26484806629833,
          135.19854972375686,
          134.86705801104972,
          131.88363259668506,
          134.81180939226522,
          135.5852900552486,
          132.1875,
          130.75103591160223,
          132.13225138121538,
          136.3311464088398,
          137.2703729281768,
          137.71236187845307,
          140.5300414364641,
          142.13225138121538,
          141.49689226519342,
          140.25379834254147,
          135.94440607734805,
          143.32009668508283,
          145.11567679558004,
          141.96650552486187,
          143.43059392265195,
          148.18197513812152,
          150.75103591160223,
          147.43611878453032,
          143.76208563535909,
          141.49689226519342,
          139.8394337016574,
          143.43059392265195,
          142.02175414364638,
          144.09357734806622,
          145.4471685082873,
          142.90573204419877,
          143.2095994475137,
          141.4140193370165,
          140.88915745856355,
          142.87810773480658,
          142.87810773480658,
          141.5521408839778,
          142.54661602209944,
          139.31457182320435,
          142.297997237569,
          139.03832872928172,
          141.49689226519342,
          139.28694751381215,
          139.45269337016566,
          141.13777624309387,
          137.71236187845307,
          134.36982044198896,
          136.4416436464088,
          138.8725828729282,
          140.08805248618785,
          140.97203038674024,
          137.82285911602207,
          140.4471685082873,
          137.04937845303868,
          135.72341160220992,
          138.62396408839777,
          135.91678176795574,
          138.23722375690602,
          140.5300414364641,
          142.1875,
          144.53556629834247
         ]
        },
        {
         "hovertemplate": "electrode 15<br>x = 32 μm<br>y = 140 μm<extra></extra>",
         "line": {
          "color": "rgb(51, 76.5, 204)",
          "width": 1.5
         },
         "mode": "lines",
         "type": "scatter",
         "x": [
          32,
          32.25,
          32.5,
          32.75,
          33,
          33.25,
          33.5,
          33.75,
          34,
          34.25,
          34.5,
          34.75,
          35,
          35.25,
          35.5,
          35.75,
          36,
          36.25,
          36.5,
          36.75,
          37,
          37.25,
          37.5,
          37.75,
          38,
          38.25,
          38.5,
          38.75,
          39,
          39.25,
          39.5,
          39.75,
          40,
          40.25,
          40.5,
          40.75,
          41,
          41.25,
          41.5,
          41.75,
          42,
          42.25,
          42.5,
          42.75,
          43,
          43.25,
          43.5,
          43.75,
          44,
          44.25,
          44.5,
          44.75,
          45,
          45.25,
          45.5,
          45.75,
          46,
          46.25,
          46.5,
          46.75,
          47,
          47.25,
          47.5,
          47.75
         ],
         "y": [
          141.05792472375686,
          140.78168162983422,
          136.16842196132598,
          135.28444406077347,
          135.06344958563534,
          131.22367058011054,
          134.01372582872926,
          133.87560428176795,
          133.70985842541438,
          134.42809046961327,
          132.54963743093924,
          133.82035566298345,
          137.632510359116,
          137.74300759668506,
          136.49991367403317,
          136.63803522099448,
          139.28996892265195,
          140.0358252762431,
          137.90875345303868,
          141.22367058011048,
          138.21262085635362,
          139.95295234806628,
          139.28996892265195,
          146.94190262430936,
          148.8203556629834,
          145.78168162983422,
          141.08554903314916,
          142.38389157458562,
          143.32311809392263,
          144.81483080110496,
          145.42256560773478,
          145.45018991712703,
          144.40046616022096,
          140.78168162983422,
          142.35626726519337,
          141.3065435082873,
          141.33416781767954,
          144.15184737569058,
          144.75958218232046,
          144.78720649171265,
          143.76510704419888,
          139.7043335635359,
          141.3065435082873,
          142.35626726519337,
          143.24024516574588,
          146.38941643646405,
          141.99715124309392,
          140.83693024861878,
          138.4336153314917,
          137.54963743093924,
          137.9916263812155,
          137.7153832872928,
          140.2291954419889,
          139.92532803867402,
          140.42256560773484,
          139.45571477900552,
          137.43914019337018,
          136.27891919889504,
          140.1186982044199,
          139.81483080110496,
          139.34521754143645,
          140.2291954419889,
          140.06344958563534,
          141.08554903314916
         ]
        },
        {
         "hovertemplate": "electrode 16<br>x = 16 μm<br>y = 160 μm<extra></extra>",
         "line": {
          "color": "rgb(51, 76.5, 204)",
          "width": 1.5
         },
         "mode": "lines",
         "type": "scatter",
         "x": [
          16,
          16.25,
          16.5,
          16.75,
          17,
          17.25,
          17.5,
          17.75,
          18,
          18.25,
          18.5,
          18.75,
          19,
          19.25,
          19.5,
          19.75,
          20,
          20.25,
          20.5,
          20.75,
          21,
          21.25,
          21.5,
          21.75,
          22,
          22.25,
          22.5,
          22.75,
          23,
          23.25,
          23.5,
          23.75,
          24,
          24.25,
          24.5,
          24.75,
          25,
          25.25,
          25.5,
          25.75,
          26,
          26.25,
          26.5,
          26.75,
          27,
          27.25,
          27.5,
          27.75,
          28,
          28.25,
          28.5,
          28.75,
          29,
          29.25,
          29.5,
          29.75,
          30,
          30.25,
          30.5,
          30.75,
          31,
          31.25,
          31.5,
          31.75
         ],
         "y": [
          161.22410220994476,
          160.11912983425415,
          160.11912983425415,
          157.16332872928177,
          157.4671961325967,
          152.4671961325967,
          152.38432320441993,
          150.09150552486193,
          152.6605662983426,
          154.1246546961326,
          154.09703038674036,
          157.35669889502765,
          159.70476519337018,
          161.1964779005525,
          158.84841160220998,
          158.90366022099448,
          162.10808011049724,
          161.85946132596683,
          157.21857734806633,
          159.62189226519337,
          160.5611187845304,
          161.52796961325967,
          162.88156077348066,
          168.2406767955801,
          168.4064226519337,
          163.59979281767954,
          158.90366022099448,
          160.0915055248619,
          162.60531767955803,
          160.92023480662985,
          163.46167127071823,
          164.29040055248618,
          166.0031077348066,
          162.2185773480663,
          163.0749309392265,
          163.54454419889504,
          161.99758287292818,
          164.70476519337015,
          164.87051104972375,
          164.92575966850828,
          164.8428867403315,
          162.41194751381215,
          163.4064226519337,
          163.37879834254142,
          161.69371546961327,
          160.6163674033149,
          160.17437845303868,
          160.20200276243094,
          155.03625690607737,
          154.04178176795583,
          159.42852209944752,
          159.31802486187846,
          160.34012430939225,
          158.9865331491713,
          158.76553867403317,
          156.2793508287293,
          153.48929558011054,
          154.67714088397793,
          160.50587016574588,
          157.19095303867405,
          158.79316298342542,
          159.87051104972377,
          161.63846685082873,
          159.34564917127074
         ]
        },
        {
         "hovertemplate": "electrode 17<br>x = 48 μm<br>y = 160 μm<extra></extra>",
         "line": {
          "color": "rgb(51, 76.5, 204)",
          "width": 1.5
         },
         "mode": "lines",
         "type": "scatter",
         "x": [
          48,
          48.25,
          48.5,
          48.75,
          49,
          49.25,
          49.5,
          49.75,
          50,
          50.25,
          50.5,
          50.75,
          51,
          51.25,
          51.5,
          51.75,
          52,
          52.25,
          52.5,
          52.75,
          53,
          53.25,
          53.5,
          53.75,
          54,
          54.25,
          54.5,
          54.75,
          55,
          55.25,
          55.5,
          55.75,
          56,
          56.25,
          56.5,
          56.75,
          57,
          57.25,
          57.5,
          57.75,
          58,
          58.25,
          58.5,
          58.75,
          59,
          59.25,
          59.5,
          59.75,
          60,
          60.25,
          60.5,
          60.75,
          61,
          61.25,
          61.5,
          61.75,
          62,
          62.25,
          62.5,
          62.75,
          63,
          63.25,
          63.5,
          63.75
         ],
         "y": [
          157.50258977900555,
          159.07717541436466,
          156.45286602209947,
          156.12137430939228,
          156.9777279005525,
          152.9445787292818,
          153.16557320441993,
          154.0771754143647,
          155.20977209944755,
          153.4418162983426,
          153.4970649171271,
          155.4860151933702,
          160.90037983425415,
          161.48049033149172,
          159.7677831491713,
          158.77330801104975,
          159.38104281767957,
          159.57441298342542,
          156.56336325966853,
          157.861705801105,
          157.861705801105,
          159.96115331491714,
          162.447341160221,
          163.4694406077348,
          165.09927486187846,
          165.43076657458565,
          162.80645718232046,
          163.74568370165747,
          163.93905386740332,
          166.09375,
          167.25397099447514,
          162.9998273480663,
          164.02192679558013,
          161.1766229281768,
          162.861705801105,
          160.73463397790056,
          159.54678867403317,
          164.49154005524863,
          163.08270027624312,
          163.88380524861878,
          164.57441298342542,
          162.55783839779005,
          162.97220303867405,
          161.09375,
          163.5523135359116,
          162.3644682320442,
          163.41419198895028,
          158.44181629834256,
          155.67938535911605,
          157.50258977900555,
          158.27607044198896,
          157.55783839779008,
          157.0606008287293,
          158.30369475138124,
          159.9059046961326,
          158.52468922651937,
          153.8838052486188,
          156.39761740331494,
          163.19319751381218,
          158.4970649171271,
          160.01640193370167,
          165.43076657458565,
          160.48601519337018,
          161.14899861878456
         ]
        },
        {
         "hovertemplate": "electrode 18<br>x = 0 μm<br>y = 180 μm<extra></extra>",
         "line": {
          "color": "rgb(51, 76.5, 204)",
          "width": 1.5
         },
         "mode": "lines",
         "type": "scatter",
         "x": [
          0,
          0.25,
          0.5,
          0.75,
          1,
          1.25,
          1.5,
          1.75,
          2,
          2.25,
          2.5,
          2.75,
          3,
          3.25,
          3.5,
          3.75,
          4,
          4.25,
          4.5,
          4.75,
          5,
          5.25,
          5.5,
          5.75,
          6,
          6.25,
          6.5,
          6.75,
          7,
          7.25,
          7.5,
          7.749999999999999,
          8,
          8.25,
          8.5,
          8.75,
          9,
          9.25,
          9.5,
          9.75,
          10,
          10.25,
          10.5,
          10.75,
          11,
          11.25,
          11.5,
          11.75,
          12,
          12.25,
          12.5,
          12.75,
          13,
          13.25,
          13.5,
          13.75,
          14,
          14.25,
          14.5,
          14.75,
          15,
          15.249999999999998,
          15.499999999999998,
          15.75
         ],
         "y": [
          181.19431975138122,
          182.76890538674033,
          179.923601519337,
          177.60315953038673,
          176.71918162983425,
          172.76890538674036,
          172.93465124309395,
          174.7302313535912,
          170.8352037292818,
          172.21641919889507,
          170.47608770718236,
          174.37111533149172,
          176.49818715469615,
          178.70813190607734,
          176.71918162983425,
          179.23299378453038,
          181.02857389502762,
          182.10592196132598,
          178.1832700276243,
          180.86282803867402,
          180.337966160221,
          180.53133632596686,
          182.8517783149171,
          183.6528832872928,
          184.75785566298342,
          179.81310428176795,
          181.66393301104972,
          180.83520372928177,
          182.05067334254142,
          183.2661429558011,
          184.89597720994473,
          185.83520372928174,
          183.79100483425412,
          181.19431975138122,
          183.2661429558011,
          181.49818715469613,
          183.570010359116,
          183.07277279005524,
          183.7357562154696,
          181.9125517955801,
          183.15564571823202,
          182.13354627071823,
          182.65840814917127,
          183.045148480663,
          183.87387776243094,
          185.14459599447514,
          182.90702693370164,
          179.97885013812154,
          178.92912638121547,
          178.6805075966851,
          180.2550932320442,
          179.97885013812154,
          180.6418335635359,
          178.29376726519337,
          179.23299378453038,
          175.36559046961327,
          172.38216505524863,
          177.0230490331492,
          179.4539882596685,
          178.29376726519337,
          180.39321477900552,
          181.9125517955801,
          181.13907113259668,
          182.7136567679558
         ]
        },
        {
         "hovertemplate": "electrode 19<br>x = 32 μm<br>y = 180 μm<extra></extra>",
         "line": {
          "color": "rgb(51, 76.5, 204)",
          "width": 1.5
         },
         "mode": "lines",
         "type": "scatter",
         "x": [
          32,
          32.25,
          32.5,
          32.75,
          33,
          33.25,
          33.5,
          33.75,
          34,
          34.25,
          34.5,
          34.75,
          35,
          35.25,
          35.5,
          35.75,
          36,
          36.25,
          36.5,
          36.75,
          37,
          37.25,
          37.5,
          37.75,
          38,
          38.25,
          38.5,
          38.75,
          39,
          39.25,
          39.5,
          39.75,
          40,
          40.25,
          40.5,
          40.75,
          41,
          41.25,
          41.5,
          41.75,
          42,
          42.25,
          42.5,
          42.75,
          43,
          43.25,
          43.5,
          43.75,
          44,
          44.25,
          44.5,
          44.75,
          45,
          45.25,
          45.5,
          45.75,
          46,
          46.25,
          46.5,
          46.75,
          47,
          47.25,
          47.5,
          47.75
         ],
         "y": [
          183.2152106353591,
          181.4748791436464,
          178.2980835635359,
          177.33123273480663,
          179.54117748618785,
          174.15443715469615,
          172.82847030386745,
          176.5853763812155,
          174.81742058011054,
          177.27598411602213,
          173.98869129834256,
          174.2096857734807,
          174.4583045580111,
          174.43068024861878,
          174.6792990331492,
          175.03841505524863,
          175.97764157458565,
          181.11576312154696,
          180.23178522099448,
          182.05498964088397,
          180.2041609116022,
          180.61852555248618,
          179.95554212707182,
          185.3699067679558,
          183.71244820441987,
          181.55775207182322,
          179.07156422651934,
          181.72349792817678,
          181.9721167127072,
          184.15443715469613,
          185.59090124309392,
          183.18758632596683,
          183.3809564917127,
          181.61300069060772,
          183.90581837016575,
          180.89476864640883,
          180.59090124309392,
          182.77322168508286,
          186.91686809392263,
          183.68482389502762,
          181.61300069060772,
          185.01079074585635,
          182.16548687845304,
          183.71244820441987,
          183.6295752762431,
          181.75112223756906,
          182.33123273480663,
          184.98316643646407,
          177.7455973756906,
          177.69034875690608,
          178.7953211325967,
          179.70692334254144,
          181.83399516574585,
          180.95001726519337,
          179.48592886740332,
          178.0770890883978,
          173.1599620165746,
          176.00526588397793,
          179.81742058011048,
          179.20968577348066,
          178.96106698895028,
          180.03841505524863,
          177.99421616022101,
          182.7455973756906
         ]
        },
        {
         "hovertemplate": "1 ms<extra></extra>",
         "line": {
          "color": "black",
          "width": 2
         },
         "mode": "lines",
         "type": "scatter",
         "x": [
          -3.0002250000000004,
          4.499924999999999
         ],
         "y": [
          30,
          30
         ]
        },
        {
         "hovertemplate": " 3.39 μV<extra></extra>",
         "line": {
          "color": "black",
          "width": 2
         },
         "mode": "lines",
         "type": "scatter",
         "x": [
          -3.0002250000000004,
          -3.0002250000000004
         ],
         "y": [
          30,
          50
         ]
        }
       ],
       "layout": {
        "height": 600,
        "showlegend": false,
        "template": {
         "data": {
          "bar": [
           {
            "error_x": {
             "color": "rgb(36,36,36)"
            },
            "error_y": {
             "color": "rgb(36,36,36)"
            },
            "marker": {
             "line": {
              "color": "white",
              "width": 0.5
             },
             "pattern": {
              "fillmode": "overlay",
              "size": 10,
              "solidity": 0.2
             }
            },
            "type": "bar"
           }
          ],
          "barpolar": [
           {
            "marker": {
             "line": {
              "color": "white",
              "width": 0.5
             },
             "pattern": {
              "fillmode": "overlay",
              "size": 10,
              "solidity": 0.2
             }
            },
            "type": "barpolar"
           }
          ],
          "carpet": [
           {
            "aaxis": {
             "endlinecolor": "rgb(36,36,36)",
             "gridcolor": "white",
             "linecolor": "white",
             "minorgridcolor": "white",
             "startlinecolor": "rgb(36,36,36)"
            },
            "baxis": {
             "endlinecolor": "rgb(36,36,36)",
             "gridcolor": "white",
             "linecolor": "white",
             "minorgridcolor": "white",
             "startlinecolor": "rgb(36,36,36)"
            },
            "type": "carpet"
           }
          ],
          "choropleth": [
           {
            "colorbar": {
             "outlinewidth": 1,
             "tickcolor": "rgb(36,36,36)",
             "ticks": "outside"
            },
            "type": "choropleth"
           }
          ],
          "contour": [
           {
            "colorbar": {
             "outlinewidth": 1,
             "tickcolor": "rgb(36,36,36)",
             "ticks": "outside"
            },
            "colorscale": [
             [
              0,
              "#440154"
             ],
             [
              0.1111111111111111,
              "#482878"
             ],
             [
              0.2222222222222222,
              "#3e4989"
             ],
             [
              0.3333333333333333,
              "#31688e"
             ],
             [
              0.4444444444444444,
              "#26828e"
             ],
             [
              0.5555555555555556,
              "#1f9e89"
             ],
             [
              0.6666666666666666,
              "#35b779"
             ],
             [
              0.7777777777777778,
              "#6ece58"
             ],
             [
              0.8888888888888888,
              "#b5de2b"
             ],
             [
              1,
              "#fde725"
             ]
            ],
            "type": "contour"
           }
          ],
          "contourcarpet": [
           {
            "colorbar": {
             "outlinewidth": 1,
             "tickcolor": "rgb(36,36,36)",
             "ticks": "outside"
            },
            "type": "contourcarpet"
           }
          ],
          "heatmap": [
           {
            "colorbar": {
             "outlinewidth": 1,
             "tickcolor": "rgb(36,36,36)",
             "ticks": "outside"
            },
            "colorscale": [
             [
              0,
              "#440154"
             ],
             [
              0.1111111111111111,
              "#482878"
             ],
             [
              0.2222222222222222,
              "#3e4989"
             ],
             [
              0.3333333333333333,
              "#31688e"
             ],
             [
              0.4444444444444444,
              "#26828e"
             ],
             [
              0.5555555555555556,
              "#1f9e89"
             ],
             [
              0.6666666666666666,
              "#35b779"
             ],
             [
              0.7777777777777778,
              "#6ece58"
             ],
             [
              0.8888888888888888,
              "#b5de2b"
             ],
             [
              1,
              "#fde725"
             ]
            ],
            "type": "heatmap"
           }
          ],
          "heatmapgl": [
           {
            "colorbar": {
             "outlinewidth": 1,
             "tickcolor": "rgb(36,36,36)",
             "ticks": "outside"
            },
            "colorscale": [
             [
              0,
              "#440154"
             ],
             [
              0.1111111111111111,
              "#482878"
             ],
             [
              0.2222222222222222,
              "#3e4989"
             ],
             [
              0.3333333333333333,
              "#31688e"
             ],
             [
              0.4444444444444444,
              "#26828e"
             ],
             [
              0.5555555555555556,
              "#1f9e89"
             ],
             [
              0.6666666666666666,
              "#35b779"
             ],
             [
              0.7777777777777778,
              "#6ece58"
             ],
             [
              0.8888888888888888,
              "#b5de2b"
             ],
             [
              1,
              "#fde725"
             ]
            ],
            "type": "heatmapgl"
           }
          ],
          "histogram": [
           {
            "marker": {
             "line": {
              "color": "white",
              "width": 0.6
             }
            },
            "type": "histogram"
           }
          ],
          "histogram2d": [
           {
            "colorbar": {
             "outlinewidth": 1,
             "tickcolor": "rgb(36,36,36)",
             "ticks": "outside"
            },
            "colorscale": [
             [
              0,
              "#440154"
             ],
             [
              0.1111111111111111,
              "#482878"
             ],
             [
              0.2222222222222222,
              "#3e4989"
             ],
             [
              0.3333333333333333,
              "#31688e"
             ],
             [
              0.4444444444444444,
              "#26828e"
             ],
             [
              0.5555555555555556,
              "#1f9e89"
             ],
             [
              0.6666666666666666,
              "#35b779"
             ],
             [
              0.7777777777777778,
              "#6ece58"
             ],
             [
              0.8888888888888888,
              "#b5de2b"
             ],
             [
              1,
              "#fde725"
             ]
            ],
            "type": "histogram2d"
           }
          ],
          "histogram2dcontour": [
           {
            "colorbar": {
             "outlinewidth": 1,
             "tickcolor": "rgb(36,36,36)",
             "ticks": "outside"
            },
            "colorscale": [
             [
              0,
              "#440154"
             ],
             [
              0.1111111111111111,
              "#482878"
             ],
             [
              0.2222222222222222,
              "#3e4989"
             ],
             [
              0.3333333333333333,
              "#31688e"
             ],
             [
              0.4444444444444444,
              "#26828e"
             ],
             [
              0.5555555555555556,
              "#1f9e89"
             ],
             [
              0.6666666666666666,
              "#35b779"
             ],
             [
              0.7777777777777778,
              "#6ece58"
             ],
             [
              0.8888888888888888,
              "#b5de2b"
             ],
             [
              1,
              "#fde725"
             ]
            ],
            "type": "histogram2dcontour"
           }
          ],
          "mesh3d": [
           {
            "colorbar": {
             "outlinewidth": 1,
             "tickcolor": "rgb(36,36,36)",
             "ticks": "outside"
            },
            "type": "mesh3d"
           }
          ],
          "parcoords": [
           {
            "line": {
             "colorbar": {
              "outlinewidth": 1,
              "tickcolor": "rgb(36,36,36)",
              "ticks": "outside"
             }
            },
            "type": "parcoords"
           }
          ],
          "pie": [
           {
            "automargin": true,
            "type": "pie"
           }
          ],
          "scatter": [
           {
            "fillpattern": {
             "fillmode": "overlay",
             "size": 10,
             "solidity": 0.2
            },
            "type": "scatter"
           }
          ],
          "scatter3d": [
           {
            "line": {
             "colorbar": {
              "outlinewidth": 1,
              "tickcolor": "rgb(36,36,36)",
              "ticks": "outside"
             }
            },
            "marker": {
             "colorbar": {
              "outlinewidth": 1,
              "tickcolor": "rgb(36,36,36)",
              "ticks": "outside"
             }
            },
            "type": "scatter3d"
           }
          ],
          "scattercarpet": [
           {
            "marker": {
             "colorbar": {
              "outlinewidth": 1,
              "tickcolor": "rgb(36,36,36)",
              "ticks": "outside"
             }
            },
            "type": "scattercarpet"
           }
          ],
          "scattergeo": [
           {
            "marker": {
             "colorbar": {
              "outlinewidth": 1,
              "tickcolor": "rgb(36,36,36)",
              "ticks": "outside"
             }
            },
            "type": "scattergeo"
           }
          ],
          "scattergl": [
           {
            "marker": {
             "colorbar": {
              "outlinewidth": 1,
              "tickcolor": "rgb(36,36,36)",
              "ticks": "outside"
             }
            },
            "type": "scattergl"
           }
          ],
          "scattermapbox": [
           {
            "marker": {
             "colorbar": {
              "outlinewidth": 1,
              "tickcolor": "rgb(36,36,36)",
              "ticks": "outside"
             }
            },
            "type": "scattermapbox"
           }
          ],
          "scatterpolar": [
           {
            "marker": {
             "colorbar": {
              "outlinewidth": 1,
              "tickcolor": "rgb(36,36,36)",
              "ticks": "outside"
             }
            },
            "type": "scatterpolar"
           }
          ],
          "scatterpolargl": [
           {
            "marker": {
             "colorbar": {
              "outlinewidth": 1,
              "tickcolor": "rgb(36,36,36)",
              "ticks": "outside"
             }
            },
            "type": "scatterpolargl"
           }
          ],
          "scatterternary": [
           {
            "marker": {
             "colorbar": {
              "outlinewidth": 1,
              "tickcolor": "rgb(36,36,36)",
              "ticks": "outside"
             }
            },
            "type": "scatterternary"
           }
          ],
          "surface": [
           {
            "colorbar": {
             "outlinewidth": 1,
             "tickcolor": "rgb(36,36,36)",
             "ticks": "outside"
            },
            "colorscale": [
             [
              0,
              "#440154"
             ],
             [
              0.1111111111111111,
              "#482878"
             ],
             [
              0.2222222222222222,
              "#3e4989"
             ],
             [
              0.3333333333333333,
              "#31688e"
             ],
             [
              0.4444444444444444,
              "#26828e"
             ],
             [
              0.5555555555555556,
              "#1f9e89"
             ],
             [
              0.6666666666666666,
              "#35b779"
             ],
             [
              0.7777777777777778,
              "#6ece58"
             ],
             [
              0.8888888888888888,
              "#b5de2b"
             ],
             [
              1,
              "#fde725"
             ]
            ],
            "type": "surface"
           }
          ],
          "table": [
           {
            "cells": {
             "fill": {
              "color": "rgb(237,237,237)"
             },
             "line": {
              "color": "white"
             }
            },
            "header": {
             "fill": {
              "color": "rgb(217,217,217)"
             },
             "line": {
              "color": "white"
             }
            },
            "type": "table"
           }
          ]
         },
         "layout": {
          "annotationdefaults": {
           "arrowhead": 0,
           "arrowwidth": 1
          },
          "autotypenumbers": "strict",
          "coloraxis": {
           "colorbar": {
            "outlinewidth": 1,
            "tickcolor": "rgb(36,36,36)",
            "ticks": "outside"
           }
          },
          "colorscale": {
           "diverging": [
            [
             0,
             "rgb(103,0,31)"
            ],
            [
             0.1,
             "rgb(178,24,43)"
            ],
            [
             0.2,
             "rgb(214,96,77)"
            ],
            [
             0.3,
             "rgb(244,165,130)"
            ],
            [
             0.4,
             "rgb(253,219,199)"
            ],
            [
             0.5,
             "rgb(247,247,247)"
            ],
            [
             0.6,
             "rgb(209,229,240)"
            ],
            [
             0.7,
             "rgb(146,197,222)"
            ],
            [
             0.8,
             "rgb(67,147,195)"
            ],
            [
             0.9,
             "rgb(33,102,172)"
            ],
            [
             1,
             "rgb(5,48,97)"
            ]
           ],
           "sequential": [
            [
             0,
             "#440154"
            ],
            [
             0.1111111111111111,
             "#482878"
            ],
            [
             0.2222222222222222,
             "#3e4989"
            ],
            [
             0.3333333333333333,
             "#31688e"
            ],
            [
             0.4444444444444444,
             "#26828e"
            ],
            [
             0.5555555555555556,
             "#1f9e89"
            ],
            [
             0.6666666666666666,
             "#35b779"
            ],
            [
             0.7777777777777778,
             "#6ece58"
            ],
            [
             0.8888888888888888,
             "#b5de2b"
            ],
            [
             1,
             "#fde725"
            ]
           ],
           "sequentialminus": [
            [
             0,
             "#440154"
            ],
            [
             0.1111111111111111,
             "#482878"
            ],
            [
             0.2222222222222222,
             "#3e4989"
            ],
            [
             0.3333333333333333,
             "#31688e"
            ],
            [
             0.4444444444444444,
             "#26828e"
            ],
            [
             0.5555555555555556,
             "#1f9e89"
            ],
            [
             0.6666666666666666,
             "#35b779"
            ],
            [
             0.7777777777777778,
             "#6ece58"
            ],
            [
             0.8888888888888888,
             "#b5de2b"
            ],
            [
             1,
             "#fde725"
            ]
           ]
          },
          "colorway": [
           "#1F77B4",
           "#FF7F0E",
           "#2CA02C",
           "#D62728",
           "#9467BD",
           "#8C564B",
           "#E377C2",
           "#7F7F7F",
           "#BCBD22",
           "#17BECF"
          ],
          "font": {
           "color": "rgb(36,36,36)"
          },
          "geo": {
           "bgcolor": "white",
           "lakecolor": "white",
           "landcolor": "white",
           "showlakes": true,
           "showland": true,
           "subunitcolor": "white"
          },
          "hoverlabel": {
           "align": "left"
          },
          "hovermode": "closest",
          "mapbox": {
           "style": "light"
          },
          "paper_bgcolor": "white",
          "plot_bgcolor": "white",
          "polar": {
           "angularaxis": {
            "gridcolor": "rgb(232,232,232)",
            "linecolor": "rgb(36,36,36)",
            "showgrid": false,
            "showline": true,
            "ticks": "outside"
           },
           "bgcolor": "white",
           "radialaxis": {
            "gridcolor": "rgb(232,232,232)",
            "linecolor": "rgb(36,36,36)",
            "showgrid": false,
            "showline": true,
            "ticks": "outside"
           }
          },
          "scene": {
           "xaxis": {
            "backgroundcolor": "white",
            "gridcolor": "rgb(232,232,232)",
            "gridwidth": 2,
            "linecolor": "rgb(36,36,36)",
            "showbackground": true,
            "showgrid": false,
            "showline": true,
            "ticks": "outside",
            "zeroline": false,
            "zerolinecolor": "rgb(36,36,36)"
           },
           "yaxis": {
            "backgroundcolor": "white",
            "gridcolor": "rgb(232,232,232)",
            "gridwidth": 2,
            "linecolor": "rgb(36,36,36)",
            "showbackground": true,
            "showgrid": false,
            "showline": true,
            "ticks": "outside",
            "zeroline": false,
            "zerolinecolor": "rgb(36,36,36)"
           },
           "zaxis": {
            "backgroundcolor": "white",
            "gridcolor": "rgb(232,232,232)",
            "gridwidth": 2,
            "linecolor": "rgb(36,36,36)",
            "showbackground": true,
            "showgrid": false,
            "showline": true,
            "ticks": "outside",
            "zeroline": false,
            "zerolinecolor": "rgb(36,36,36)"
           }
          },
          "shapedefaults": {
           "fillcolor": "black",
           "line": {
            "width": 0
           },
           "opacity": 0.3
          },
          "ternary": {
           "aaxis": {
            "gridcolor": "rgb(232,232,232)",
            "linecolor": "rgb(36,36,36)",
            "showgrid": false,
            "showline": true,
            "ticks": "outside"
           },
           "baxis": {
            "gridcolor": "rgb(232,232,232)",
            "linecolor": "rgb(36,36,36)",
            "showgrid": false,
            "showline": true,
            "ticks": "outside"
           },
           "bgcolor": "white",
           "caxis": {
            "gridcolor": "rgb(232,232,232)",
            "linecolor": "rgb(36,36,36)",
            "showgrid": false,
            "showline": true,
            "ticks": "outside"
           }
          },
          "title": {
           "x": 0.05
          },
          "xaxis": {
           "automargin": true,
           "gridcolor": "rgb(232,232,232)",
           "linecolor": "rgb(36,36,36)",
           "showgrid": false,
           "showline": true,
           "ticks": "outside",
           "title": {
            "standoff": 15
           },
           "zeroline": false,
           "zerolinecolor": "rgb(36,36,36)"
          },
          "yaxis": {
           "automargin": true,
           "gridcolor": "rgb(232,232,232)",
           "linecolor": "rgb(36,36,36)",
           "showgrid": false,
           "showline": true,
           "ticks": "outside",
           "title": {
            "standoff": 15
           },
           "zeroline": false,
           "zerolinecolor": "rgb(36,36,36)"
          }
         }
        },
        "title": {
         "text": "Depth Waveforms"
        },
        "width": 400,
        "xaxis": {
         "range": [
          -8,
          67.2
         ],
         "ticktext": [
          "0",
          "16",
          "32",
          "48"
         ],
         "tickvals": [
          8.25,
          24.25,
          40.25,
          56.25
         ],
         "title": {
          "text": "Electrode position (μm)"
         }
        },
        "yaxis": {
         "range": [
          20,
          220
         ],
         "title": {
          "text": "Distance from the probe tip (μm)"
         }
        }
       }
      }
     },
     "metadata": {},
     "output_type": "display_data"
    }
   ],
   "source": [
    "# Plot depth Waveforms\n",
    "plot_depth_waveforms(ephys, unit_key=unit_key, y_range=60)\n"
   ]
  },
  {
   "attachments": {},
   "cell_type": "markdown",
   "id": "83bdae23",
   "metadata": {},
   "source": [
    "## Probe level visualization\n"
   ]
  },
  {
   "attachments": {},
   "cell_type": "markdown",
   "id": "8855d8bb",
   "metadata": {},
   "source": [
    "At the probe level, we plot a driftmap to visualize the activity of all neurons recorded on that probe per shank. Here we import the function from `element_array_ephys.plotting.probe_level`\n"
   ]
  },
  {
   "cell_type": "code",
   "execution_count": 37,
   "id": "ed54b85e",
   "metadata": {},
   "outputs": [],
   "source": [
    "from element_array_ephys.plotting.probe_level import plot_driftmap\n"
   ]
  },
  {
   "cell_type": "markdown",
   "id": "fccd1d4b",
   "metadata": {},
   "source": [
    "### Plot driftmap\n"
   ]
  },
  {
   "attachments": {},
   "cell_type": "markdown",
   "id": "8855d8bb",
   "metadata": {},
   "source": [
    "- Specify the probe key and the shank from that probe. Fetch `spikes_times` and `spike_depths` from all units from the shank, which will be used as an input argument for the function `plot_driftmap`.\n",
    "\n",
    "- Units are aligned relative to the distance from the probe tip. An increase in activity (firing rates) is indicated by dark red.\n"
   ]
  },
  {
   "cell_type": "code",
   "execution_count": 54,
   "id": "2bcb90e4",
   "metadata": {},
   "outputs": [
    {
     "data": {
      "image/png": "[encoded data removed]",
      "text/plain": [
       "<Figure size 2400x1000 with 3 Axes>"
      ]
     },
     "metadata": {},
     "output_type": "display_data"
    }
   ],
   "source": [
    "import matplotlib.pyplot as plt\n",
    "\n",
    "probe_key = {\n",
    "    \"subject\": \"subject6\",\n",
    "    \"session_datetime\": datetime.datetime(2021, 1, 15, 11, 16, 38),\n",
    "    \"insertion_number\": 0,\n",
    "    \"paramset_idx\": 0,\n",
    "}\n",
    "\n",
    "# Fetch all units recorded from the probe and specify the shank\n",
    "units = ephys.CuratedClustering.Unit & probe_key & \"cluster_quality_label='good'\"\n",
    "shank_no = 0\n",
    "\n",
    "table = units * ephys.ProbeInsertion * probe.ProbeType.Electrode & {\"shank\": shank_no}\n",
    "\n",
    "spike_times, spike_depths = table.fetch(\"spike_times\", \"spike_depths\", order_by=\"unit\")\n",
    "\n",
    "plot_driftmap(spike_times, spike_depths, colormap=\"gist_heat_r\")\n",
    "plt.show()\n"
   ]
  },
  {
   "attachments": {},
   "cell_type": "markdown",
   "id": "e7bfdbe2",
   "metadata": {},
   "source": [
    "## Using ipywidget\n"
   ]
  },
  {
   "attachments": {},
   "cell_type": "markdown",
   "id": "0f3026bd",
   "metadata": {},
   "source": [
    "Now, let's populate tables with these figures."
   ]
  },
  {
   "cell_type": "code",
   "execution_count": null,
   "id": "c07e3ecf",
   "metadata": {},
   "outputs": [],
   "source": [
    "ephys_report.ProbeLevelReport.populate()\n",
    "ephys_report.UnitLevelReport.populate()"
   ]
  },
  {
   "attachments": {},
   "cell_type": "markdown",
   "id": "0ca37457",
   "metadata": {},
   "source": [
    "All of the above plots for probes and units ingested into datajoint tables can be visualized with a single widget, which can be imported as follows:\n"
   ]
  },
  {
   "cell_type": "code",
   "execution_count": null,
   "id": "e6cebd98",
   "metadata": {},
   "outputs": [
    {
     "data": {
      "application/vnd.jupyter.widget-view+json": {
       "model_id": "15e5171110b54412ba752aff60fe849d",
       "version_major": 2,
       "version_minor": 0
      },
      "text/plain": [
       "VBox(children=(interactive(children=(Dropdown(description='Select Probe Insertion : ', layout=Layout(width='80…"
      ]
     },
     "metadata": {},
     "output_type": "display_data"
    }
   ],
   "source": [
    "from element_array_ephys.plotting.widget import main\n",
    "\n",
    "main(ephys)"
   ]
  },
  {
   "attachments": {},
   "cell_type": "markdown",
   "id": "154d8a48",
   "metadata": {},
   "source": [
    "You can select a probe & shank and all the individual units associated with them via dropdown and it will automatically fetch & render the plot stored in tables from the `ephys_report` schema.\n"
   ]
  },
  {
   "attachments": {},
   "cell_type": "markdown",
   "id": "005aab11",
   "metadata": {},
   "source": [
    "## Quality Metrics\n"
   ]
  },
  {
   "attachments": {},
   "cell_type": "markdown",
   "id": "7103c170",
   "metadata": {},
   "source": [
    "The Element also offers Quality Metric visualizations. These are generated using an output from kilosort, `metrics.csv`. First, ensure your `QualityMetrics` table is populated with this data:\n"
   ]
  },
  {
   "cell_type": "code",
   "execution_count": 6,
   "id": "9ae2846d",
   "metadata": {},
   "outputs": [],
   "source": [
    "ephys.QualityMetrics.populate()\n"
   ]
  },
  {
   "attachments": {},
   "cell_type": "markdown",
   "id": "97cc56e1",
   "metadata": {},
   "source": [
    "We'll grab an example key for demonstration.\n"
   ]
  },
  {
   "cell_type": "code",
   "execution_count": 4,
   "id": "cf59d618",
   "metadata": {},
   "outputs": [
    {
     "data": {
      "text/plain": [
       "{'subject': 'subject4',\n",
       " 'session_datetime': datetime.datetime(2020, 2, 20, 14, 34, 56),\n",
       " 'insertion_number': 0,\n",
       " 'paramset_idx': 0}"
      ]
     },
     "execution_count": 4,
     "metadata": {},
     "output_type": "execute_result"
    }
   ],
   "source": [
    "my_key = ephys.QualityMetrics.fetch(\"KEY\")[0]\n",
    "my_key\n"
   ]
  },
  {
   "attachments": {},
   "cell_type": "markdown",
   "id": "071991da",
   "metadata": {},
   "source": [
    "The `QualityMetricFigs` class will be used to create individual plots of the quality metrics calculated by `element-array-ephys` as well as a dashboard of all metrics. Next, initialize the `QualityMetricFigs` class with the `ephys` module.\n"
   ]
  },
  {
   "cell_type": "code",
   "execution_count": 5,
   "id": "7ae11ceb",
   "metadata": {},
   "outputs": [
    {
     "data": {
      "text/plain": [
       "['firing_rate',\n",
       " 'presence_ratio',\n",
       " 'amp_cutoff',\n",
       " 'isi_violation',\n",
       " 'snr',\n",
       " 'iso_dist',\n",
       " 'd_prime',\n",
       " 'nn_hit']"
      ]
     },
     "execution_count": 5,
     "metadata": {},
     "output_type": "execute_result"
    }
   ],
   "source": [
    "from element_array_ephys.plotting.qc import QualityMetricFigs\n",
    "\n",
    "qm = QualityMetricFigs(ephys, key=my_key, dark_mode=True)\n",
    "qm.plot_list  # Available plots\n"
   ]
  },
  {
   "attachments": {},
   "cell_type": "markdown",
   "id": "7db99a2f",
   "metadata": {},
   "source": [
    "To see just one plot, we can call for it by name.\n"
   ]
  },
  {
   "cell_type": "code",
   "execution_count": 6,
   "id": "ecb293d5",
   "metadata": {},
   "outputs": [
    {
     "data": {
      "image/png": "[encoded data removed]"
     },
     "metadata": {},
     "output_type": "display_data"
    }
   ],
   "source": [
    "fig = qm.get_single_fig(\"snr\", scale=0.5)\n",
    "fig.show(\n",
    "    \"png\"\n",
    ")  # .show('png') is optional. Here, it is used to render the image within a notebook that is embedded in a browser.\n"
   ]
  },
  {
   "attachments": {},
   "cell_type": "markdown",
   "id": "caebf09e",
   "metadata": {},
   "source": [
    "Or, we can see all available plots as a grid.\n"
   ]
  },
  {
   "cell_type": "code",
   "execution_count": 7,
   "id": "08637946",
   "metadata": {},
   "outputs": [
    {
     "data": {
      "image/png": "[encoded data removed]"
     },
     "metadata": {},
     "output_type": "display_data"
    }
   ],
   "source": [
    "qm.get_grid().show(\"png\")\n"
   ]
  },
  {
   "attachments": {},
   "cell_type": "markdown",
   "id": "033c669b",
   "metadata": {},
   "source": [
    "We can update the key and even add or remove plots.\n"
   ]
  },
  {
   "cell_type": "code",
   "execution_count": 8,
   "id": "79362cc5",
   "metadata": {},
   "outputs": [],
   "source": [
    "qm.key = {\n",
    "    \"subject\": \"subject4\"\n",
    "}  # Update the key. Must uniquely identify a row in the `QualityMetrics` table\n"
   ]
  },
  {
   "cell_type": "code",
   "execution_count": 9,
   "id": "4b14651d",
   "metadata": {},
   "outputs": [
    {
     "data": {
      "image/png": "[encoded data removed]"
     },
     "metadata": {},
     "output_type": "display_data"
    }
   ],
   "source": [
    "import numpy as np\n",
    "\n",
    "qm.plots = {  # Add a plot to the list\n",
    "    \"log_d_prime\": {\n",
    "        \"xaxis\": \"log d-prime\",  # x-axis label\n",
    "        \"data\": np.log10(qm.units[\"d_prime\"]),  # Histogram data\n",
    "        \"bins\": np.linspace(0, 3, 50),  # Histogram bins\n",
    "        \"vline\": 1,  # Vertical line\n",
    "    }\n",
    "}\n",
    "qm.remove_plot(\"isi_violation\")  # Drop a plot from those rendered\n",
    "qm.get_grid().show(\"png\")\n"
   ]
  },
  {
   "attachments": {},
   "cell_type": "markdown",
   "id": "158f51a4",
   "metadata": {},
   "source": [
    "Scientists may want to apply cutoffs to the units visualized. By default, none are applied, but they can easily be set with a dictionary that corresponds to an entry in the `ephys_report.QualityMetricCutoffs` table.\n"
   ]
  },
  {
   "cell_type": "code",
   "execution_count": 10,
   "id": "0f21e6b5",
   "metadata": {},
   "outputs": [
    {
     "data": {
      "text/plain": [
       "{'cutoffs_id': 1,\n",
       " 'amplitude_cutoff_maximum': 0.1,\n",
       " 'presence_ratio_minimum': 0.9,\n",
       " 'isi_violations_maximum': 0.5,\n",
       " 'cutoffs_hash': UUID('f74ccd77-0b3a-2bf8-0bfd-ec9713b5dca8')}"
      ]
     },
     "execution_count": 10,
     "metadata": {},
     "output_type": "execute_result"
    }
   ],
   "source": [
    "my_cutoffs = (ephys_report.QualityMetricCutoffs & \"cutoffs_id=1\").fetch1()\n",
    "my_cutoffs\n"
   ]
  },
  {
   "cell_type": "code",
   "execution_count": 11,
   "id": "3c859575",
   "metadata": {},
   "outputs": [],
   "source": [
    "qm.cutoffs = my_cutoffs\n"
   ]
  },
  {
   "attachments": {},
   "cell_type": "markdown",
   "id": "5476b422",
   "metadata": {},
   "source": [
    "Relevant data items are available as a pandas dataframe in the `units` property, which correspond to the data stored in the `ephys.QualityMetric.Cluster` and `ephys.QualityMetric.Waveform` tables.\n"
   ]
  },
  {
   "cell_type": "code",
   "execution_count": 12,
   "id": "8bac8145",
   "metadata": {},
   "outputs": [
    {
     "data": {
      "text/html": [
       "<table border=\"1\" class=\"dataframe\">\n",
       "  <thead>\n",
       "    <tr style=\"text-align: right;\">\n",
       "      <th>firing_rate</th>\n",
       "      <th>snr</th>\n",
       "      <th>presence_ratio</th>\n",
       "      <th>isi_violation</th>\n",
       "      <th>number_violation</th>\n",
       "      <th>amplitude_cutoff</th>\n",
       "      <th>isolation_distance</th>\n",
       "      <th>l_ratio</th>\n",
       "      <th>d_prime</th>\n",
       "      <th>nn_hit_rate</th>\n",
       "      <th>nn_miss_rate</th>\n",
       "      <th>silhouette_score</th>\n",
       "      <th>max_drift</th>\n",
       "      <th>cumulative_drift</th>\n",
       "      <th>contamination_rate</th>\n",
       "      <th>amplitude</th>\n",
       "      <th>duration</th>\n",
       "      <th>halfwidth</th>\n",
       "      <th>pt_ratio</th>\n",
       "      <th>repolarization_slope</th>\n",
       "      <th>recovery_slope</th>\n",
       "      <th>spread</th>\n",
       "      <th>velocity_above</th>\n",
       "      <th>velocity_below</th>\n",
       "    </tr>\n",
       "  </thead>\n",
       "  <tbody>\n",
       "    <tr>\n",
       "      <td>1.316800</td>\n",
       "      <td>3.230420</td>\n",
       "      <td>0.99</td>\n",
       "      <td>NaN</td>\n",
       "      <td>None</td>\n",
       "      <td>0.5</td>\n",
       "      <td>19.9267</td>\n",
       "      <td>0.002013</td>\n",
       "      <td>5.24332</td>\n",
       "      <td>0.981333</td>\n",
       "      <td>0.000846</td>\n",
       "      <td>0.137668</td>\n",
       "      <td>134.22</td>\n",
       "      <td>3523.91</td>\n",
       "      <td>NaN</td>\n",
       "      <td>79.7310</td>\n",
       "      <td>1.24992</td>\n",
       "      <td>0.123618</td>\n",
       "      <td>NaN</td>\n",
       "      <td>0.263708</td>\n",
       "      <td>-0.001869</td>\n",
       "      <td>0.0</td>\n",
       "      <td>NaN</td>\n",
       "      <td>NaN</td>\n",
       "    </tr>\n",
       "    <tr>\n",
       "      <td>0.026997</td>\n",
       "      <td>1.112870</td>\n",
       "      <td>0.84</td>\n",
       "      <td>NaN</td>\n",
       "      <td>None</td>\n",
       "      <td>0.5</td>\n",
       "      <td>12.1206</td>\n",
       "      <td>0.001683</td>\n",
       "      <td>2.33009</td>\n",
       "      <td>0.185185</td>\n",
       "      <td>0.000300</td>\n",
       "      <td>-0.034638</td>\n",
       "      <td>NaN</td>\n",
       "      <td>0.00</td>\n",
       "      <td>NaN</td>\n",
       "      <td>43.4414</td>\n",
       "      <td>1.71692</td>\n",
       "      <td>0.700503</td>\n",
       "      <td>NaN</td>\n",
       "      <td>0.146716</td>\n",
       "      <td>-0.004821</td>\n",
       "      <td>3320.0</td>\n",
       "      <td>0.033097</td>\n",
       "      <td>NaN</td>\n",
       "    </tr>\n",
       "    <tr>\n",
       "      <td>0.016992</td>\n",
       "      <td>0.931551</td>\n",
       "      <td>0.66</td>\n",
       "      <td>NaN</td>\n",
       "      <td>None</td>\n",
       "      <td>0.5</td>\n",
       "      <td>11.9093</td>\n",
       "      <td>0.001203</td>\n",
       "      <td>2.84158</td>\n",
       "      <td>0.200000</td>\n",
       "      <td>0.000233</td>\n",
       "      <td>-0.034638</td>\n",
       "      <td>NaN</td>\n",
       "      <td>0.00</td>\n",
       "      <td>NaN</td>\n",
       "      <td>42.5355</td>\n",
       "      <td>1.59330</td>\n",
       "      <td>1.208710</td>\n",
       "      <td>NaN</td>\n",
       "      <td>0.006649</td>\n",
       "      <td>-0.016113</td>\n",
       "      <td>2060.0</td>\n",
       "      <td>0.060787</td>\n",
       "      <td>NaN</td>\n",
       "    </tr>\n",
       "  </tbody>\n",
       "</table>"
      ],
      "text/plain": [
       "<IPython.core.display.HTML object>"
      ]
     },
     "execution_count": 12,
     "metadata": {},
     "output_type": "execute_result"
    }
   ],
   "source": [
    "from IPython.display import HTML  # For pretty printing\n",
    "\n",
    "HTML(qm.units.iloc[0:3].to_html(index=False))  # First few rows only\n"
   ]
  }
 ],
 "metadata": {
  "jupytext": {
   "formats": "ipynb,py_scripts//py"
  },
  "kernelspec": {
   "display_name": "ele",
   "language": "python",
   "name": "python3"
  },
  "language_info": {
   "codemirror_mode": {
    "name": "ipython",
    "version": 3
   },
   "file_extension": ".py",
   "mimetype": "text/x-python",
   "name": "python",
   "nbconvert_exporter": "python",
   "pygments_lexer": "ipython3",
   "version": "3.9.16"
  },
  "vscode": {
   "interpreter": {
    "hash": "d00c4ad21a7027bf1726d6ae3a9a6ef39c8838928eca5a3d5f51f3eb68720410"
   }
  }
 },
 "nbformat": 4,
 "nbformat_minor": 5
}
